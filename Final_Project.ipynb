{
 "cells": [
  {
   "cell_type": "code",
   "execution_count": 1,
   "metadata": {
    "application/vnd.databricks.v1+cell": {
     "cellMetadata": {
      "byteLimit": 2048000,
      "rowLimit": 10000
     },
     "inputWidgets": {},
     "nuid": "bac684fc-efab-4aef-904e-aed5cdf91e26",
     "showTitle": false,
     "title": ""
    }
   },
   "outputs": [
    {
     "name": "stdout",
     "output_type": "stream",
     "text": [
      "Spark Session WebUI Port: 4040\n"
     ]
    }
   ],
   "source": [
    "import findspark\n",
    "findspark.init()\n",
    "\n",
    "from pyspark.sql import SparkSession;\n",
    "\n",
    "spark = SparkSession.builder.master(\"local[4]\").appName(\"ISM6562 Spark App01\").getOrCreate();\n",
    "\n",
    "sc = spark.sparkContext  \n",
    "\n",
    "spark_session_port = spark.sparkContext.uiWebUrl.split(\":\")[-1]\n",
    "print(\"Spark Session WebUI Port: \" + spark_session_port)"
   ]
  },
  {
   "cell_type": "code",
   "execution_count": 2,
   "metadata": {
    "application/vnd.databricks.v1+cell": {
     "cellMetadata": {
      "byteLimit": 2048000,
      "rowLimit": 10000
     },
     "inputWidgets": {},
     "nuid": "128ac680-77ed-46c4-a23b-95a85b72d4f8",
     "showTitle": false,
     "title": ""
    }
   },
   "outputs": [],
   "source": [
    "sc.setLogLevel(\"ERROR\")"
   ]
  },
  {
   "cell_type": "code",
   "execution_count": 3,
   "metadata": {
    "application/vnd.databricks.v1+cell": {
     "cellMetadata": {
      "byteLimit": 2048000,
      "rowLimit": 10000
     },
     "inputWidgets": {},
     "nuid": "f24ebac8-7e95-451b-9a9a-f810b6d035b3",
     "showTitle": false,
     "title": ""
    }
   },
   "outputs": [],
   "source": [
    "df = spark.read.csv('Data.csv', header=True, inferSchema=True)"
   ]
  },
  {
   "cell_type": "code",
   "execution_count": 4,
   "metadata": {
    "application/vnd.databricks.v1+cell": {
     "cellMetadata": {
      "byteLimit": 2048000,
      "rowLimit": 10000
     },
     "inputWidgets": {},
     "nuid": "b56b7118-8a9e-4332-928a-8135d1c20f74",
     "showTitle": false,
     "title": ""
    }
   },
   "outputs": [],
   "source": [
    "from pyspark.sql.functions import col, regexp_replace\n",
    "# Replace spaces with underscores in column names\n",
    "new_col_names = [col_name.strip().replace('-', '_') for col_name in df.columns]\n",
    "for i, col_name in enumerate(df.columns):\n",
    "    df = df.withColumnRenamed(col_name, new_col_names[i])"
   ]
  },
  {
   "cell_type": "code",
   "execution_count": 5,
   "metadata": {
    "application/vnd.databricks.v1+cell": {
     "cellMetadata": {
      "byteLimit": 2048000,
      "rowLimit": 10000
     },
     "inputWidgets": {},
     "nuid": "c25250bc-7a23-429b-8c5f-c080a058c04e",
     "showTitle": false,
     "title": ""
    }
   },
   "outputs": [],
   "source": [
    "from pyspark.sql.functions import col, when\n",
    "\n",
    "valueWhenTrue = None  # for example\n",
    "\n",
    "for c in df.columns:\n",
    "    df = df.withColumn(\n",
    "        c,\n",
    "        when(\n",
    "            col(c) == ' ?',\n",
    "            valueWhenTrue\n",
    "        ).otherwise(col(c))\n",
    "    )\n"
   ]
  },
  {
   "cell_type": "code",
   "execution_count": 6,
   "metadata": {
    "application/vnd.databricks.v1+cell": {
     "cellMetadata": {
      "byteLimit": 2048000,
      "rowLimit": 10000
     },
     "inputWidgets": {},
     "nuid": "a7121315-9993-4552-88cb-b4707963cee8",
     "showTitle": false,
     "title": ""
    }
   },
   "outputs": [
    {
     "name": "stdout",
     "output_type": "stream",
     "text": [
      "+---+---------+------+---------+-------------+--------------+----------+------------+----+---+------------+------------+--------------+--------------+------+\n",
      "|Age|Workclass|fnlwgt|Education|Education_Num|Marital_Status|Occupation|Relationship|Race|Sex|Capital_Gain|Capital_Loss|Hours_Per_Week|Native_Country|Target|\n",
      "+---+---------+------+---------+-------------+--------------+----------+------------+----+---+------------+------------+--------------+--------------+------+\n",
      "|  0|     2799|     0|        0|            0|             0|      2809|           0|   0|  0|           0|           0|             0|           857|     0|\n",
      "+---+---------+------+---------+-------------+--------------+----------+------------+----+---+------------+------------+--------------+--------------+------+\n",
      "\n"
     ]
    }
   ],
   "source": [
    "from pyspark.sql.functions import col, sum\n",
    "null_counts = df.agg(*[sum(col(c).isNull().cast('int')).alias(c) for c in df.columns])\n",
    "null_counts.show()"
   ]
  },
  {
   "cell_type": "code",
   "execution_count": 7,
   "metadata": {
    "application/vnd.databricks.v1+cell": {
     "cellMetadata": {
      "byteLimit": 2048000,
      "rowLimit": 10000
     },
     "inputWidgets": {},
     "nuid": "42c130a9-f52e-4572-9a70-46935981a8dd",
     "showTitle": false,
     "title": ""
    }
   },
   "outputs": [],
   "source": [
    "df = df.dropna()"
   ]
  },
  {
   "cell_type": "code",
   "execution_count": 8,
   "metadata": {
    "application/vnd.databricks.v1+cell": {
     "cellMetadata": {
      "byteLimit": 2048000,
      "rowLimit": 10000
     },
     "inputWidgets": {},
     "nuid": "e5db3442-24a0-4e36-bf4f-a6b8128ae001",
     "showTitle": false,
     "title": ""
    }
   },
   "outputs": [
    {
     "name": "stdout",
     "output_type": "stream",
     "text": [
      "+---+---------+------+---------+-------------+--------------+----------+------------+----+---+------------+------------+--------------+--------------+------+\n",
      "|Age|Workclass|fnlwgt|Education|Education_Num|Marital_Status|Occupation|Relationship|Race|Sex|Capital_Gain|Capital_Loss|Hours_Per_Week|Native_Country|Target|\n",
      "+---+---------+------+---------+-------------+--------------+----------+------------+----+---+------------+------------+--------------+--------------+------+\n",
      "|  0|        0|     0|        0|            0|             0|         0|           0|   0|  0|           0|           0|             0|             0|     0|\n",
      "+---+---------+------+---------+-------------+--------------+----------+------------+----+---+------------+------------+--------------+--------------+------+\n",
      "\n"
     ]
    }
   ],
   "source": [
    "from pyspark.sql.functions import col, sum\n",
    "null_counts = df.agg(*[sum(col(c).isNull().cast('int')).alias(c) for c in df.columns])\n",
    "null_counts.show()"
   ]
  },
  {
   "cell_type": "code",
   "execution_count": 1,
   "metadata": {
    "application/vnd.databricks.v1+cell": {
     "cellMetadata": {
      "byteLimit": 2048000,
      "rowLimit": 10000
     },
     "inputWidgets": {},
     "nuid": "2859a640-597d-4733-8fa4-29e9c22ae563",
     "showTitle": false,
     "title": ""
    }
   },
   "outputs": [
    {
     "ename": "NameError",
     "evalue": "name 'df' is not defined",
     "output_type": "error",
     "traceback": [
      "\u001b[1;31m---------------------------------------------------------------------------\u001b[0m",
      "\u001b[1;31mNameError\u001b[0m                                 Traceback (most recent call last)",
      "Cell \u001b[1;32mIn[1], line 1\u001b[0m\n\u001b[1;32m----> 1\u001b[0m df \u001b[38;5;241m=\u001b[39m \u001b[43mdf\u001b[49m\u001b[38;5;241m.\u001b[39mdropDuplicates()\n",
      "\u001b[1;31mNameError\u001b[0m: name 'df' is not defined"
     ]
    }
   ],
   "source": [
    "df = df.dropDuplicates()"
   ]
  },
  {
   "cell_type": "code",
   "execution_count": 10,
   "metadata": {
    "application/vnd.databricks.v1+cell": {
     "cellMetadata": {
      "byteLimit": 2048000,
      "rowLimit": 10000
     },
     "inputWidgets": {},
     "nuid": "695cd305-c1df-4058-9932-a8fb2b5d6368",
     "showTitle": false,
     "title": ""
    }
   },
   "outputs": [
    {
     "name": "stdout",
     "output_type": "stream",
     "text": [
      "root\n",
      " |-- Age: integer (nullable = true)\n",
      " |-- Workclass: string (nullable = true)\n",
      " |-- fnlwgt: integer (nullable = true)\n",
      " |-- Education: string (nullable = true)\n",
      " |-- Education_Num: integer (nullable = true)\n",
      " |-- Marital_Status: string (nullable = true)\n",
      " |-- Occupation: string (nullable = true)\n",
      " |-- Relationship: string (nullable = true)\n",
      " |-- Race: string (nullable = true)\n",
      " |-- Sex: string (nullable = true)\n",
      " |-- Capital_Gain: integer (nullable = true)\n",
      " |-- Capital_Loss: integer (nullable = true)\n",
      " |-- Hours_Per_Week: integer (nullable = true)\n",
      " |-- Native_Country: string (nullable = true)\n",
      " |-- Target: string (nullable = true)\n",
      "\n"
     ]
    }
   ],
   "source": [
    "df.printSchema()"
   ]
  },
  {
   "cell_type": "code",
   "execution_count": 11,
   "metadata": {
    "application/vnd.databricks.v1+cell": {
     "cellMetadata": {
      "byteLimit": 2048000,
      "rowLimit": 10000
     },
     "inputWidgets": {},
     "nuid": "dc00793e-2429-4b12-8fd0-ececd21c483a",
     "showTitle": false,
     "title": ""
    }
   },
   "outputs": [
    {
     "name": "stdout",
     "output_type": "stream",
     "text": [
      "+---------+---------+-----------+\n",
      "|namespace|tableName|isTemporary|\n",
      "+---------+---------+-----------+\n",
      "+---------+---------+-----------+\n",
      "\n"
     ]
    }
   ],
   "source": [
    "tables = spark.sql(\"show tables\").show()"
   ]
  },
  {
   "cell_type": "code",
   "execution_count": 12,
   "metadata": {
    "application/vnd.databricks.v1+cell": {
     "cellMetadata": {
      "byteLimit": 2048000,
      "rowLimit": 10000
     },
     "inputWidgets": {},
     "nuid": "f899393b-df41-4970-a1ea-2bf05442e613",
     "showTitle": false,
     "title": ""
    }
   },
   "outputs": [
    {
     "data": {
      "text/plain": [
       "[]"
      ]
     },
     "execution_count": 12,
     "metadata": {},
     "output_type": "execute_result"
    }
   ],
   "source": [
    "spark.catalog.listTables()"
   ]
  },
  {
   "cell_type": "code",
   "execution_count": 13,
   "metadata": {
    "application/vnd.databricks.v1+cell": {
     "cellMetadata": {
      "byteLimit": 2048000,
      "rowLimit": 10000
     },
     "inputWidgets": {},
     "nuid": "6f647420-17bf-4719-b3f1-3823deaf8cb7",
     "showTitle": false,
     "title": ""
    }
   },
   "outputs": [],
   "source": [
    "df.createOrReplaceTempView(\"income_table\")"
   ]
  },
  {
   "cell_type": "code",
   "execution_count": 14,
   "metadata": {
    "application/vnd.databricks.v1+cell": {
     "cellMetadata": {
      "byteLimit": 2048000,
      "rowLimit": 10000
     },
     "inputWidgets": {},
     "nuid": "66e1a894-547d-4b76-8da8-5c152dacd01f",
     "showTitle": false,
     "title": ""
    }
   },
   "outputs": [],
   "source": [
    "# df.write.saveAsTable(\"income_table_per\")"
   ]
  },
  {
   "cell_type": "code",
   "execution_count": 15,
   "metadata": {
    "application/vnd.databricks.v1+cell": {
     "cellMetadata": {
      "byteLimit": 2048000,
      "rowLimit": 10000
     },
     "inputWidgets": {},
     "nuid": "50b33258-1395-48f8-b52a-bc2afa019a9f",
     "showTitle": false,
     "title": ""
    }
   },
   "outputs": [
    {
     "name": "stdout",
     "output_type": "stream",
     "text": [
      "+---------+------------+-----------+\n",
      "|namespace|   tableName|isTemporary|\n",
      "+---------+------------+-----------+\n",
      "|         |income_table|       true|\n",
      "+---------+------------+-----------+\n",
      "\n"
     ]
    }
   ],
   "source": [
    "tables = spark.sql(\"show tables\").show()"
   ]
  },
  {
   "cell_type": "markdown",
   "metadata": {
    "application/vnd.databricks.v1+cell": {
     "cellMetadata": {
      "byteLimit": 2048000,
      "rowLimit": 10000
     },
     "inputWidgets": {},
     "nuid": "6cd08d0e-2a66-4370-acce-32d7a16b238e",
     "showTitle": true,
     "title": ""
    }
   },
   "source": [
    "# Exploring The Data"
   ]
  },
  {
   "cell_type": "markdown",
   "metadata": {
    "application/vnd.databricks.v1+cell": {
     "cellMetadata": {
      "byteLimit": 2048000,
      "rowLimit": 10000
     },
     "inputWidgets": {},
     "nuid": "ff8aab26-f881-49db-b937-4a6ecd3670e0",
     "showTitle": false,
     "title": ""
    }
   },
   "source": [
    "The query you provided calculates the proportion of males in the income_table dataset. It divides the count of males by the count of all records in the dataset, and returns the result as a single column table. From this, we can identify that their is a **disproportunate bias favoring Men** when it comes to earning more than $50,000 per annum when compared to women./"
   ]
  },
  {
   "cell_type": "code",
   "execution_count": 16,
   "metadata": {
    "application/vnd.databricks.v1+cell": {
     "cellMetadata": {
      "byteLimit": 2048000,
      "rowLimit": 10000
     },
     "inputWidgets": {},
     "nuid": "1b4fc6ab-15e7-4fdc-9f9f-68e349df7fbd",
     "showTitle": true,
     "title": ""
    }
   },
   "outputs": [
    {
     "name": "stdout",
     "output_type": "stream",
     "text": [
      "+-----------------+\n",
      "|  male_proportion|\n",
      "+-----------------+\n",
      "|0.851008748437779|\n",
      "+-----------------+\n",
      "\n"
     ]
    }
   ],
   "source": [
    "query = \"\"\"\n",
    "SELECT \n",
    "(COUNT(CASE WHEN TRIM(sex) = 'Male' THEN 1 END) / COUNT(*)) AS male_proportion \n",
    "FROM income_table\n",
    "WHERE TRIM(target)='>50K'\n",
    "\"\"\"\n",
    "result1 = spark.sql(query)\n",
    "result1.show(5)"
   ]
  },
  {
   "cell_type": "code",
   "execution_count": 17,
   "metadata": {
    "application/vnd.databricks.v1+cell": {
     "cellMetadata": {
      "byteLimit": 2048000,
      "rowLimit": 10000
     },
     "inputWidgets": {},
     "nuid": "d4a8173e-792a-495a-b524-b8c185c9b112",
     "showTitle": true,
     "title": "We can see that most people stop education after Highschool which is Education Number \"9\"."
    }
   },
   "outputs": [
    {
     "name": "stdout",
     "output_type": "stream",
     "text": [
      "+-------------+-----+\n",
      "|Education_Num|   cn|\n",
      "+-------------+-----+\n",
      "|            1|   70|\n",
      "|            2|  220|\n",
      "|            3|  447|\n",
      "|            4|  822|\n",
      "|            5|  676|\n",
      "|            6| 1223|\n",
      "|            7| 1619|\n",
      "|            8|  575|\n",
      "|            9|14770|\n",
      "|           10| 9887|\n",
      "|           11| 1958|\n",
      "|           12| 1507|\n",
      "|           13| 7559|\n",
      "|           14| 2513|\n",
      "|           15|  785|\n",
      "|           16|  544|\n",
      "+-------------+-----+\n",
      "\n"
     ]
    }
   ],
   "source": [
    "query2 = \"\"\"\n",
    "SELECT \n",
    "Education_Num, count(*) AS cn\n",
    "FROM income_table \n",
    "GROUP BY Education_Num \n",
    "SORT BY Education_Num\n",
    "\"\"\"\n",
    "result2 = spark.sql(query2)\n",
    "result2.show()"
   ]
  },
  {
   "cell_type": "code",
   "execution_count": 18,
   "metadata": {
    "application/vnd.databricks.v1+cell": {
     "cellMetadata": {
      "byteLimit": 2048000,
      "rowLimit": 10000
     },
     "inputWidgets": {},
     "nuid": "8a12eb7f-e56a-4719-94dc-a3bab388d797",
     "showTitle": true,
     "title": "It is evident that out of the ~48K People, only 11,687 people earn more than $50,000 every year."
    }
   },
   "outputs": [
    {
     "name": "stdout",
     "output_type": "stream",
     "text": [
      "+------+------------+\n",
      "|target|target_count|\n",
      "+------+------------+\n",
      "|  >50K|       11202|\n",
      "| <=50K|       33973|\n",
      "+------+------------+\n",
      "\n"
     ]
    }
   ],
   "source": [
    "query3 = \"\"\"\n",
    "SELECT target, COUNT(*) as target_count\n",
    "FROM income_table \n",
    "GROUP BY Target\n",
    "\"\"\"\n",
    "result3 = spark.sql(query3)\n",
    "result3.show()"
   ]
  },
  {
   "cell_type": "markdown",
   "metadata": {
    "application/vnd.databricks.v1+cell": {
     "cellMetadata": {
      "byteLimit": 2048000,
      "rowLimit": 10000
     },
     "inputWidgets": {},
     "nuid": "862d52ea-31f5-4af8-aecd-b22d35b732a6",
     "showTitle": false,
     "title": ""
    }
   },
   "source": [
    "The data has been loaded. Then temporary and persistant tables have been created.  Following this, we have run SQL Queries to explore the data."
   ]
  },
  {
   "cell_type": "code",
   "execution_count": 19,
   "metadata": {
    "application/vnd.databricks.v1+cell": {
     "cellMetadata": {
      "byteLimit": 2048000,
      "rowLimit": 10000
     },
     "inputWidgets": {},
     "nuid": "7d2c9295-35ef-4d24-adfb-0dd0ef6065c5",
     "showTitle": false,
     "title": ""
    }
   },
   "outputs": [
    {
     "data": {
      "text/plain": [
       "['Age',\n",
       " 'Workclass',\n",
       " 'fnlwgt',\n",
       " 'Education',\n",
       " 'Education_Num',\n",
       " 'Marital_Status',\n",
       " 'Occupation',\n",
       " 'Relationship',\n",
       " 'Race',\n",
       " 'Sex',\n",
       " 'Capital_Gain',\n",
       " 'Capital_Loss',\n",
       " 'Hours_Per_Week',\n",
       " 'Native_Country',\n",
       " 'Target']"
      ]
     },
     "execution_count": 19,
     "metadata": {},
     "output_type": "execute_result"
    }
   ],
   "source": [
    "df.columns"
   ]
  },
  {
   "cell_type": "code",
   "execution_count": 20,
   "metadata": {
    "application/vnd.databricks.v1+cell": {
     "cellMetadata": {
      "byteLimit": 2048000,
      "rowLimit": 10000
     },
     "inputWidgets": {},
     "nuid": "8f1f2e5f-e54e-4eae-a532-714f048c2a9b",
     "showTitle": false,
     "title": ""
    }
   },
   "outputs": [],
   "source": [
    "\n",
    "df=df.select([\n",
    "    \"Age\",\"Workclass\",\"Education\",\"Marital_Status\",\"Occupation\",\"Relationship\",\"Race\",\"Sex\",\"Capital_Gain\",\"Capital_Loss\",\"Hours_Per_Week\",\"Native_Country\",\"Target\"\n",
    "])"
   ]
  },
  {
   "cell_type": "code",
   "execution_count": 21,
   "metadata": {
    "application/vnd.databricks.v1+cell": {
     "cellMetadata": {
      "byteLimit": 2048000,
      "rowLimit": 10000
     },
     "inputWidgets": {},
     "nuid": "8a105139-4bf2-4ae2-8f8d-168209495acb",
     "showTitle": false,
     "title": ""
    }
   },
   "outputs": [
    {
     "data": {
      "text/plain": [
       "[Row(Target=' >50K'),\n",
       " Row(Target=' <=50K'),\n",
       " Row(Target=' <=50K'),\n",
       " Row(Target=' <=50K'),\n",
       " Row(Target=' <=50K'),\n",
       " Row(Target=' <=50K'),\n",
       " Row(Target=' >50K'),\n",
       " Row(Target=' <=50K'),\n",
       " Row(Target=' <=50K'),\n",
       " Row(Target=' >50K'),\n",
       " Row(Target=' >50K'),\n",
       " Row(Target=' <=50K'),\n",
       " Row(Target=' <=50K'),\n",
       " Row(Target=' <=50K'),\n",
       " Row(Target=' >50K'),\n",
       " Row(Target=' <=50K'),\n",
       " Row(Target=' >50K'),\n",
       " Row(Target=' <=50K'),\n",
       " Row(Target=' <=50K'),\n",
       " Row(Target=' <=50K'),\n",
       " Row(Target=' <=50K'),\n",
       " Row(Target=' <=50K'),\n",
       " Row(Target=' <=50K'),\n",
       " Row(Target=' <=50K'),\n",
       " Row(Target=' <=50K'),\n",
       " Row(Target=' <=50K'),\n",
       " Row(Target=' <=50K'),\n",
       " Row(Target=' <=50K'),\n",
       " Row(Target=' <=50K'),\n",
       " Row(Target=' <=50K'),\n",
       " Row(Target=' <=50K'),\n",
       " Row(Target=' <=50K'),\n",
       " Row(Target=' >50K'),\n",
       " Row(Target=' <=50K'),\n",
       " Row(Target=' <=50K'),\n",
       " Row(Target=' <=50K'),\n",
       " Row(Target=' >50K'),\n",
       " Row(Target=' <=50K'),\n",
       " Row(Target=' <=50K'),\n",
       " Row(Target=' <=50K'),\n",
       " Row(Target=' >50K'),\n",
       " Row(Target=' <=50K'),\n",
       " Row(Target=' <=50K'),\n",
       " Row(Target=' <=50K'),\n",
       " Row(Target=' <=50K'),\n",
       " Row(Target=' <=50K'),\n",
       " Row(Target=' <=50K'),\n",
       " Row(Target=' <=50K'),\n",
       " Row(Target=' >50K'),\n",
       " Row(Target=' >50K'),\n",
       " Row(Target=' <=50K'),\n",
       " Row(Target=' <=50K'),\n",
       " Row(Target=' >50K'),\n",
       " Row(Target=' <=50K'),\n",
       " Row(Target=' <=50K'),\n",
       " Row(Target=' <=50K'),\n",
       " Row(Target=' >50K'),\n",
       " Row(Target=' <=50K'),\n",
       " Row(Target=' <=50K'),\n",
       " Row(Target=' >50K'),\n",
       " Row(Target=' <=50K'),\n",
       " Row(Target=' <=50K'),\n",
       " Row(Target=' <=50K'),\n",
       " Row(Target=' <=50K'),\n",
       " Row(Target=' <=50K'),\n",
       " Row(Target=' <=50K'),\n",
       " Row(Target=' <=50K'),\n",
       " Row(Target=' <=50K'),\n",
       " Row(Target=' <=50K'),\n",
       " Row(Target=' >50K'),\n",
       " Row(Target=' >50K'),\n",
       " Row(Target=' <=50K'),\n",
       " Row(Target=' <=50K'),\n",
       " Row(Target=' <=50K'),\n",
       " Row(Target=' >50K'),\n",
       " Row(Target=' <=50K'),\n",
       " Row(Target=' <=50K'),\n",
       " Row(Target=' <=50K'),\n",
       " Row(Target=' <=50K'),\n",
       " Row(Target=' >50K'),\n",
       " Row(Target=' <=50K'),\n",
       " Row(Target=' <=50K'),\n",
       " Row(Target=' <=50K'),\n",
       " Row(Target=' <=50K'),\n",
       " Row(Target=' <=50K'),\n",
       " Row(Target=' <=50K'),\n",
       " Row(Target=' <=50K'),\n",
       " Row(Target=' <=50K'),\n",
       " Row(Target=' >50K'),\n",
       " Row(Target=' >50K'),\n",
       " Row(Target=' >50K'),\n",
       " Row(Target=' <=50K'),\n",
       " Row(Target=' >50K'),\n",
       " Row(Target=' <=50K'),\n",
       " Row(Target=' <=50K'),\n",
       " Row(Target=' <=50K'),\n",
       " Row(Target=' <=50K'),\n",
       " Row(Target=' >50K'),\n",
       " Row(Target=' <=50K'),\n",
       " Row(Target=' <=50K'),\n",
       " Row(Target=' <=50K'),\n",
       " Row(Target=' <=50K'),\n",
       " Row(Target=' <=50K'),\n",
       " Row(Target=' <=50K'),\n",
       " Row(Target=' >50K'),\n",
       " Row(Target=' <=50K'),\n",
       " Row(Target=' >50K'),\n",
       " Row(Target=' <=50K'),\n",
       " Row(Target=' <=50K'),\n",
       " Row(Target=' >50K'),\n",
       " Row(Target=' >50K'),\n",
       " Row(Target=' <=50K'),\n",
       " Row(Target=' <=50K'),\n",
       " Row(Target=' <=50K'),\n",
       " Row(Target=' <=50K'),\n",
       " Row(Target=' >50K'),\n",
       " Row(Target=' <=50K'),\n",
       " Row(Target=' <=50K'),\n",
       " Row(Target=' <=50K'),\n",
       " Row(Target=' >50K'),\n",
       " Row(Target=' >50K'),\n",
       " Row(Target=' >50K'),\n",
       " Row(Target=' <=50K'),\n",
       " Row(Target=' <=50K'),\n",
       " Row(Target=' >50K'),\n",
       " Row(Target=' <=50K'),\n",
       " Row(Target=' <=50K'),\n",
       " Row(Target=' <=50K'),\n",
       " Row(Target=' <=50K'),\n",
       " Row(Target=' <=50K'),\n",
       " Row(Target=' <=50K'),\n",
       " Row(Target=' <=50K'),\n",
       " Row(Target=' <=50K'),\n",
       " Row(Target=' <=50K'),\n",
       " Row(Target=' >50K'),\n",
       " Row(Target=' <=50K'),\n",
       " Row(Target=' <=50K'),\n",
       " Row(Target=' >50K'),\n",
       " Row(Target=' >50K'),\n",
       " Row(Target=' <=50K'),\n",
       " Row(Target=' <=50K'),\n",
       " Row(Target=' <=50K'),\n",
       " Row(Target=' >50K'),\n",
       " Row(Target=' <=50K'),\n",
       " Row(Target=' <=50K'),\n",
       " Row(Target=' <=50K'),\n",
       " Row(Target=' >50K'),\n",
       " Row(Target=' >50K'),\n",
       " Row(Target=' >50K'),\n",
       " Row(Target=' <=50K'),\n",
       " Row(Target=' >50K'),\n",
       " Row(Target=' <=50K'),\n",
       " Row(Target=' >50K'),\n",
       " Row(Target=' <=50K'),\n",
       " Row(Target=' <=50K'),\n",
       " Row(Target=' <=50K'),\n",
       " Row(Target=' <=50K'),\n",
       " Row(Target=' <=50K'),\n",
       " Row(Target=' <=50K'),\n",
       " Row(Target=' <=50K'),\n",
       " Row(Target=' <=50K'),\n",
       " Row(Target=' >50K'),\n",
       " Row(Target=' <=50K'),\n",
       " Row(Target=' <=50K'),\n",
       " Row(Target=' >50K'),\n",
       " Row(Target=' <=50K'),\n",
       " Row(Target=' <=50K'),\n",
       " Row(Target=' <=50K'),\n",
       " Row(Target=' <=50K'),\n",
       " Row(Target=' <=50K'),\n",
       " Row(Target=' >50K'),\n",
       " Row(Target=' <=50K'),\n",
       " Row(Target=' <=50K'),\n",
       " Row(Target=' <=50K'),\n",
       " Row(Target=' <=50K'),\n",
       " Row(Target=' >50K'),\n",
       " Row(Target=' <=50K'),\n",
       " Row(Target=' >50K'),\n",
       " Row(Target=' <=50K'),\n",
       " Row(Target=' <=50K'),\n",
       " Row(Target=' <=50K'),\n",
       " Row(Target=' <=50K'),\n",
       " Row(Target=' <=50K'),\n",
       " Row(Target=' <=50K'),\n",
       " Row(Target=' <=50K'),\n",
       " Row(Target=' <=50K'),\n",
       " Row(Target=' >50K'),\n",
       " Row(Target=' <=50K'),\n",
       " Row(Target=' <=50K'),\n",
       " Row(Target=' <=50K'),\n",
       " Row(Target=' <=50K'),\n",
       " Row(Target=' <=50K'),\n",
       " Row(Target=' <=50K'),\n",
       " Row(Target=' <=50K'),\n",
       " Row(Target=' >50K'),\n",
       " Row(Target=' <=50K'),\n",
       " Row(Target=' <=50K'),\n",
       " Row(Target=' <=50K'),\n",
       " Row(Target=' <=50K'),\n",
       " Row(Target=' <=50K'),\n",
       " Row(Target=' <=50K'),\n",
       " Row(Target=' <=50K'),\n",
       " Row(Target=' <=50K'),\n",
       " Row(Target=' <=50K'),\n",
       " Row(Target=' <=50K'),\n",
       " Row(Target=' >50K'),\n",
       " Row(Target=' <=50K'),\n",
       " Row(Target=' <=50K'),\n",
       " Row(Target=' <=50K'),\n",
       " Row(Target=' <=50K'),\n",
       " Row(Target=' <=50K'),\n",
       " Row(Target=' <=50K'),\n",
       " Row(Target=' <=50K'),\n",
       " Row(Target=' <=50K'),\n",
       " Row(Target=' <=50K'),\n",
       " Row(Target=' >50K'),\n",
       " Row(Target=' <=50K'),\n",
       " Row(Target=' <=50K'),\n",
       " Row(Target=' <=50K'),\n",
       " Row(Target=' <=50K'),\n",
       " Row(Target=' <=50K'),\n",
       " Row(Target=' >50K'),\n",
       " Row(Target=' <=50K'),\n",
       " Row(Target=' <=50K'),\n",
       " Row(Target=' <=50K'),\n",
       " Row(Target=' >50K'),\n",
       " Row(Target=' <=50K'),\n",
       " Row(Target=' >50K'),\n",
       " Row(Target=' >50K'),\n",
       " Row(Target=' <=50K'),\n",
       " Row(Target=' <=50K'),\n",
       " Row(Target=' <=50K'),\n",
       " Row(Target=' <=50K'),\n",
       " Row(Target=' <=50K'),\n",
       " Row(Target=' >50K'),\n",
       " Row(Target=' <=50K'),\n",
       " Row(Target=' >50K'),\n",
       " Row(Target=' <=50K'),\n",
       " Row(Target=' >50K'),\n",
       " Row(Target=' >50K'),\n",
       " Row(Target=' <=50K'),\n",
       " Row(Target=' <=50K'),\n",
       " Row(Target=' <=50K'),\n",
       " Row(Target=' >50K'),\n",
       " Row(Target=' <=50K'),\n",
       " Row(Target=' <=50K'),\n",
       " Row(Target=' <=50K'),\n",
       " Row(Target=' <=50K'),\n",
       " Row(Target=' <=50K'),\n",
       " Row(Target=' <=50K'),\n",
       " Row(Target=' <=50K'),\n",
       " Row(Target=' <=50K'),\n",
       " Row(Target=' <=50K'),\n",
       " Row(Target=' <=50K'),\n",
       " Row(Target=' <=50K'),\n",
       " Row(Target=' <=50K'),\n",
       " Row(Target=' <=50K'),\n",
       " Row(Target=' >50K'),\n",
       " Row(Target=' <=50K'),\n",
       " Row(Target=' <=50K'),\n",
       " Row(Target=' >50K'),\n",
       " Row(Target=' <=50K'),\n",
       " Row(Target=' <=50K'),\n",
       " Row(Target=' >50K'),\n",
       " Row(Target=' <=50K'),\n",
       " Row(Target=' <=50K'),\n",
       " Row(Target=' <=50K'),\n",
       " Row(Target=' <=50K'),\n",
       " Row(Target=' <=50K'),\n",
       " Row(Target=' <=50K'),\n",
       " Row(Target=' >50K'),\n",
       " Row(Target=' <=50K'),\n",
       " Row(Target=' <=50K'),\n",
       " Row(Target=' <=50K'),\n",
       " Row(Target=' <=50K'),\n",
       " Row(Target=' <=50K'),\n",
       " Row(Target=' <=50K'),\n",
       " Row(Target=' <=50K'),\n",
       " Row(Target=' <=50K'),\n",
       " Row(Target=' >50K'),\n",
       " Row(Target=' <=50K'),\n",
       " Row(Target=' <=50K'),\n",
       " Row(Target=' <=50K'),\n",
       " Row(Target=' >50K'),\n",
       " Row(Target=' <=50K'),\n",
       " Row(Target=' >50K'),\n",
       " Row(Target=' <=50K'),\n",
       " Row(Target=' >50K'),\n",
       " Row(Target=' <=50K'),\n",
       " Row(Target=' >50K'),\n",
       " Row(Target=' <=50K'),\n",
       " Row(Target=' >50K'),\n",
       " Row(Target=' <=50K'),\n",
       " Row(Target=' >50K'),\n",
       " Row(Target=' <=50K'),\n",
       " Row(Target=' <=50K'),\n",
       " Row(Target=' <=50K'),\n",
       " Row(Target=' >50K'),\n",
       " Row(Target=' <=50K'),\n",
       " Row(Target=' <=50K'),\n",
       " Row(Target=' <=50K'),\n",
       " Row(Target=' <=50K'),\n",
       " Row(Target=' <=50K'),\n",
       " Row(Target=' <=50K'),\n",
       " Row(Target=' >50K'),\n",
       " Row(Target=' <=50K'),\n",
       " Row(Target=' <=50K'),\n",
       " Row(Target=' >50K'),\n",
       " Row(Target=' <=50K'),\n",
       " Row(Target=' >50K'),\n",
       " Row(Target=' <=50K'),\n",
       " Row(Target=' <=50K'),\n",
       " Row(Target=' <=50K'),\n",
       " Row(Target=' <=50K'),\n",
       " Row(Target=' <=50K'),\n",
       " Row(Target=' <=50K'),\n",
       " Row(Target=' <=50K'),\n",
       " Row(Target=' >50K'),\n",
       " Row(Target=' <=50K'),\n",
       " Row(Target=' >50K'),\n",
       " Row(Target=' <=50K'),\n",
       " Row(Target=' <=50K'),\n",
       " Row(Target=' <=50K'),\n",
       " Row(Target=' <=50K'),\n",
       " Row(Target=' >50K'),\n",
       " Row(Target=' <=50K'),\n",
       " Row(Target=' <=50K'),\n",
       " Row(Target=' <=50K'),\n",
       " Row(Target=' >50K'),\n",
       " Row(Target=' <=50K'),\n",
       " Row(Target=' <=50K'),\n",
       " Row(Target=' <=50K'),\n",
       " Row(Target=' >50K'),\n",
       " Row(Target=' >50K'),\n",
       " Row(Target=' <=50K'),\n",
       " Row(Target=' <=50K'),\n",
       " Row(Target=' <=50K'),\n",
       " Row(Target=' <=50K'),\n",
       " Row(Target=' <=50K'),\n",
       " Row(Target=' <=50K'),\n",
       " Row(Target=' <=50K'),\n",
       " Row(Target=' <=50K'),\n",
       " Row(Target=' <=50K'),\n",
       " Row(Target=' <=50K'),\n",
       " Row(Target=' <=50K'),\n",
       " Row(Target=' <=50K'),\n",
       " Row(Target=' <=50K'),\n",
       " Row(Target=' <=50K'),\n",
       " Row(Target=' <=50K'),\n",
       " Row(Target=' <=50K'),\n",
       " Row(Target=' >50K'),\n",
       " Row(Target=' >50K'),\n",
       " Row(Target=' >50K'),\n",
       " Row(Target=' <=50K'),\n",
       " Row(Target=' <=50K'),\n",
       " Row(Target=' <=50K'),\n",
       " Row(Target=' <=50K'),\n",
       " Row(Target=' <=50K'),\n",
       " Row(Target=' >50K'),\n",
       " Row(Target=' <=50K'),\n",
       " Row(Target=' <=50K'),\n",
       " Row(Target=' >50K'),\n",
       " Row(Target=' <=50K'),\n",
       " Row(Target=' <=50K'),\n",
       " Row(Target=' <=50K'),\n",
       " Row(Target=' <=50K'),\n",
       " Row(Target=' <=50K'),\n",
       " Row(Target=' <=50K'),\n",
       " Row(Target=' >50K'),\n",
       " Row(Target=' <=50K'),\n",
       " Row(Target=' >50K'),\n",
       " Row(Target=' <=50K'),\n",
       " Row(Target=' <=50K'),\n",
       " Row(Target=' >50K'),\n",
       " Row(Target=' >50K'),\n",
       " Row(Target=' <=50K'),\n",
       " Row(Target=' <=50K'),\n",
       " Row(Target=' <=50K'),\n",
       " Row(Target=' <=50K'),\n",
       " Row(Target=' <=50K'),\n",
       " Row(Target=' <=50K'),\n",
       " Row(Target=' <=50K'),\n",
       " Row(Target=' <=50K'),\n",
       " Row(Target=' <=50K'),\n",
       " Row(Target=' <=50K'),\n",
       " Row(Target=' <=50K'),\n",
       " Row(Target=' >50K'),\n",
       " Row(Target=' <=50K'),\n",
       " Row(Target=' <=50K'),\n",
       " Row(Target=' <=50K'),\n",
       " Row(Target=' >50K'),\n",
       " Row(Target=' >50K'),\n",
       " Row(Target=' <=50K'),\n",
       " Row(Target=' <=50K'),\n",
       " Row(Target=' <=50K'),\n",
       " Row(Target=' <=50K'),\n",
       " Row(Target=' <=50K'),\n",
       " Row(Target=' <=50K'),\n",
       " Row(Target=' <=50K'),\n",
       " Row(Target=' <=50K'),\n",
       " Row(Target=' >50K'),\n",
       " Row(Target=' >50K'),\n",
       " Row(Target=' <=50K'),\n",
       " Row(Target=' <=50K'),\n",
       " Row(Target=' >50K'),\n",
       " Row(Target=' <=50K'),\n",
       " Row(Target=' <=50K'),\n",
       " Row(Target=' >50K'),\n",
       " Row(Target=' <=50K'),\n",
       " Row(Target=' <=50K'),\n",
       " Row(Target=' <=50K'),\n",
       " Row(Target=' <=50K'),\n",
       " Row(Target=' <=50K'),\n",
       " Row(Target=' <=50K'),\n",
       " Row(Target=' <=50K'),\n",
       " Row(Target=' <=50K'),\n",
       " Row(Target=' <=50K'),\n",
       " Row(Target=' <=50K'),\n",
       " Row(Target=' <=50K'),\n",
       " Row(Target=' >50K'),\n",
       " Row(Target=' >50K'),\n",
       " Row(Target=' <=50K'),\n",
       " Row(Target=' <=50K'),\n",
       " Row(Target=' >50K'),\n",
       " Row(Target=' >50K'),\n",
       " Row(Target=' <=50K'),\n",
       " Row(Target=' <=50K'),\n",
       " Row(Target=' <=50K'),\n",
       " Row(Target=' >50K'),\n",
       " Row(Target=' <=50K'),\n",
       " Row(Target=' <=50K'),\n",
       " Row(Target=' >50K'),\n",
       " Row(Target=' <=50K'),\n",
       " Row(Target=' <=50K'),\n",
       " Row(Target=' <=50K'),\n",
       " Row(Target=' >50K'),\n",
       " Row(Target=' <=50K'),\n",
       " Row(Target=' <=50K'),\n",
       " Row(Target=' <=50K'),\n",
       " Row(Target=' <=50K'),\n",
       " Row(Target=' <=50K'),\n",
       " Row(Target=' >50K'),\n",
       " Row(Target=' >50K'),\n",
       " Row(Target=' <=50K'),\n",
       " Row(Target=' <=50K'),\n",
       " Row(Target=' >50K'),\n",
       " Row(Target=' <=50K'),\n",
       " Row(Target=' <=50K'),\n",
       " Row(Target=' <=50K'),\n",
       " Row(Target=' <=50K'),\n",
       " Row(Target=' <=50K'),\n",
       " Row(Target=' <=50K'),\n",
       " Row(Target=' <=50K'),\n",
       " Row(Target=' <=50K'),\n",
       " Row(Target=' <=50K'),\n",
       " Row(Target=' <=50K'),\n",
       " Row(Target=' <=50K'),\n",
       " Row(Target=' >50K'),\n",
       " Row(Target=' <=50K'),\n",
       " Row(Target=' <=50K'),\n",
       " Row(Target=' <=50K'),\n",
       " Row(Target=' <=50K'),\n",
       " Row(Target=' >50K'),\n",
       " Row(Target=' >50K'),\n",
       " Row(Target=' <=50K'),\n",
       " Row(Target=' <=50K'),\n",
       " Row(Target=' >50K'),\n",
       " Row(Target=' <=50K'),\n",
       " Row(Target=' <=50K'),\n",
       " Row(Target=' <=50K'),\n",
       " Row(Target=' <=50K'),\n",
       " Row(Target=' <=50K'),\n",
       " Row(Target=' <=50K'),\n",
       " Row(Target=' <=50K'),\n",
       " Row(Target=' <=50K'),\n",
       " Row(Target=' <=50K'),\n",
       " Row(Target=' <=50K'),\n",
       " Row(Target=' <=50K'),\n",
       " Row(Target=' <=50K'),\n",
       " Row(Target=' <=50K'),\n",
       " Row(Target=' <=50K'),\n",
       " Row(Target=' <=50K'),\n",
       " Row(Target=' <=50K'),\n",
       " Row(Target=' <=50K'),\n",
       " Row(Target=' <=50K'),\n",
       " Row(Target=' >50K'),\n",
       " Row(Target=' <=50K'),\n",
       " Row(Target=' >50K'),\n",
       " Row(Target=' >50K'),\n",
       " Row(Target=' <=50K'),\n",
       " Row(Target=' <=50K'),\n",
       " Row(Target=' <=50K'),\n",
       " Row(Target=' <=50K'),\n",
       " Row(Target=' <=50K'),\n",
       " Row(Target=' >50K'),\n",
       " Row(Target=' <=50K'),\n",
       " Row(Target=' <=50K'),\n",
       " Row(Target=' <=50K'),\n",
       " Row(Target=' <=50K'),\n",
       " Row(Target=' <=50K'),\n",
       " Row(Target=' <=50K'),\n",
       " Row(Target=' >50K'),\n",
       " Row(Target=' >50K'),\n",
       " Row(Target=' <=50K'),\n",
       " Row(Target=' >50K'),\n",
       " Row(Target=' <=50K'),\n",
       " Row(Target=' >50K'),\n",
       " Row(Target=' <=50K'),\n",
       " Row(Target=' <=50K'),\n",
       " Row(Target=' <=50K'),\n",
       " Row(Target=' <=50K'),\n",
       " Row(Target=' <=50K'),\n",
       " Row(Target=' >50K'),\n",
       " Row(Target=' <=50K'),\n",
       " Row(Target=' <=50K'),\n",
       " Row(Target=' >50K'),\n",
       " Row(Target=' <=50K'),\n",
       " Row(Target=' <=50K'),\n",
       " Row(Target=' <=50K'),\n",
       " Row(Target=' <=50K'),\n",
       " Row(Target=' <=50K'),\n",
       " Row(Target=' <=50K'),\n",
       " Row(Target=' >50K'),\n",
       " Row(Target=' <=50K'),\n",
       " Row(Target=' >50K'),\n",
       " Row(Target=' >50K'),\n",
       " Row(Target=' <=50K'),\n",
       " Row(Target=' <=50K'),\n",
       " Row(Target=' <=50K'),\n",
       " Row(Target=' <=50K'),\n",
       " Row(Target=' <=50K'),\n",
       " Row(Target=' >50K'),\n",
       " Row(Target=' >50K'),\n",
       " Row(Target=' <=50K'),\n",
       " Row(Target=' <=50K'),\n",
       " Row(Target=' >50K'),\n",
       " Row(Target=' <=50K'),\n",
       " Row(Target=' <=50K'),\n",
       " Row(Target=' <=50K'),\n",
       " Row(Target=' >50K'),\n",
       " Row(Target=' <=50K'),\n",
       " Row(Target=' <=50K'),\n",
       " Row(Target=' <=50K'),\n",
       " Row(Target=' <=50K'),\n",
       " Row(Target=' <=50K'),\n",
       " Row(Target=' <=50K'),\n",
       " Row(Target=' <=50K'),\n",
       " Row(Target=' <=50K'),\n",
       " Row(Target=' <=50K'),\n",
       " Row(Target=' <=50K'),\n",
       " Row(Target=' >50K'),\n",
       " Row(Target=' <=50K'),\n",
       " Row(Target=' <=50K'),\n",
       " Row(Target=' <=50K'),\n",
       " Row(Target=' >50K'),\n",
       " Row(Target=' >50K'),\n",
       " Row(Target=' <=50K'),\n",
       " Row(Target=' <=50K'),\n",
       " Row(Target=' >50K'),\n",
       " Row(Target=' <=50K'),\n",
       " Row(Target=' <=50K'),\n",
       " Row(Target=' >50K'),\n",
       " Row(Target=' >50K'),\n",
       " Row(Target=' <=50K'),\n",
       " Row(Target=' <=50K'),\n",
       " Row(Target=' <=50K'),\n",
       " Row(Target=' <=50K'),\n",
       " Row(Target=' <=50K'),\n",
       " Row(Target=' <=50K'),\n",
       " Row(Target=' <=50K'),\n",
       " Row(Target=' <=50K'),\n",
       " Row(Target=' <=50K'),\n",
       " Row(Target=' >50K'),\n",
       " Row(Target=' <=50K'),\n",
       " Row(Target=' <=50K'),\n",
       " Row(Target=' <=50K'),\n",
       " Row(Target=' <=50K'),\n",
       " Row(Target=' <=50K'),\n",
       " Row(Target=' <=50K'),\n",
       " Row(Target=' <=50K'),\n",
       " Row(Target=' <=50K'),\n",
       " Row(Target=' <=50K'),\n",
       " Row(Target=' >50K'),\n",
       " Row(Target=' <=50K'),\n",
       " Row(Target=' <=50K'),\n",
       " Row(Target=' <=50K'),\n",
       " Row(Target=' <=50K'),\n",
       " Row(Target=' <=50K'),\n",
       " Row(Target=' <=50K'),\n",
       " Row(Target=' <=50K'),\n",
       " Row(Target=' >50K'),\n",
       " Row(Target=' <=50K'),\n",
       " Row(Target=' <=50K'),\n",
       " Row(Target=' >50K'),\n",
       " Row(Target=' <=50K'),\n",
       " Row(Target=' <=50K'),\n",
       " Row(Target=' <=50K'),\n",
       " Row(Target=' <=50K'),\n",
       " Row(Target=' <=50K'),\n",
       " Row(Target=' >50K'),\n",
       " Row(Target=' >50K'),\n",
       " Row(Target=' >50K'),\n",
       " Row(Target=' <=50K'),\n",
       " Row(Target=' <=50K'),\n",
       " Row(Target=' >50K'),\n",
       " Row(Target=' <=50K'),\n",
       " Row(Target=' >50K'),\n",
       " Row(Target=' <=50K'),\n",
       " Row(Target=' <=50K'),\n",
       " Row(Target=' >50K'),\n",
       " Row(Target=' >50K'),\n",
       " Row(Target=' <=50K'),\n",
       " Row(Target=' <=50K'),\n",
       " Row(Target=' <=50K'),\n",
       " Row(Target=' <=50K'),\n",
       " Row(Target=' <=50K'),\n",
       " Row(Target=' >50K'),\n",
       " Row(Target=' <=50K'),\n",
       " Row(Target=' >50K'),\n",
       " Row(Target=' <=50K'),\n",
       " Row(Target=' <=50K'),\n",
       " Row(Target=' <=50K'),\n",
       " Row(Target=' <=50K'),\n",
       " Row(Target=' <=50K'),\n",
       " Row(Target=' <=50K'),\n",
       " Row(Target=' <=50K'),\n",
       " Row(Target=' <=50K'),\n",
       " Row(Target=' <=50K'),\n",
       " Row(Target=' >50K'),\n",
       " Row(Target=' <=50K'),\n",
       " Row(Target=' <=50K'),\n",
       " Row(Target=' >50K'),\n",
       " Row(Target=' <=50K'),\n",
       " Row(Target=' <=50K'),\n",
       " Row(Target=' <=50K'),\n",
       " Row(Target=' >50K'),\n",
       " Row(Target=' >50K'),\n",
       " Row(Target=' >50K'),\n",
       " Row(Target=' <=50K'),\n",
       " Row(Target=' <=50K'),\n",
       " Row(Target=' <=50K'),\n",
       " Row(Target=' <=50K'),\n",
       " Row(Target=' <=50K'),\n",
       " Row(Target=' <=50K'),\n",
       " Row(Target=' <=50K'),\n",
       " Row(Target=' <=50K'),\n",
       " Row(Target=' <=50K'),\n",
       " Row(Target=' <=50K'),\n",
       " Row(Target=' <=50K'),\n",
       " Row(Target=' <=50K'),\n",
       " Row(Target=' <=50K'),\n",
       " Row(Target=' <=50K'),\n",
       " Row(Target=' <=50K'),\n",
       " Row(Target=' >50K'),\n",
       " Row(Target=' <=50K'),\n",
       " Row(Target=' <=50K'),\n",
       " Row(Target=' >50K'),\n",
       " Row(Target=' <=50K'),\n",
       " Row(Target=' <=50K'),\n",
       " Row(Target=' >50K'),\n",
       " Row(Target=' <=50K'),\n",
       " Row(Target=' <=50K'),\n",
       " Row(Target=' <=50K'),\n",
       " Row(Target=' <=50K'),\n",
       " Row(Target=' <=50K'),\n",
       " Row(Target=' <=50K'),\n",
       " Row(Target=' <=50K'),\n",
       " Row(Target=' <=50K'),\n",
       " Row(Target=' <=50K'),\n",
       " Row(Target=' <=50K'),\n",
       " Row(Target=' >50K'),\n",
       " Row(Target=' <=50K'),\n",
       " Row(Target=' <=50K'),\n",
       " Row(Target=' <=50K'),\n",
       " Row(Target=' <=50K'),\n",
       " Row(Target=' >50K'),\n",
       " Row(Target=' <=50K'),\n",
       " Row(Target=' <=50K'),\n",
       " Row(Target=' <=50K'),\n",
       " Row(Target=' <=50K'),\n",
       " Row(Target=' >50K'),\n",
       " Row(Target=' >50K'),\n",
       " Row(Target=' >50K'),\n",
       " Row(Target=' <=50K'),\n",
       " Row(Target=' <=50K'),\n",
       " Row(Target=' >50K'),\n",
       " Row(Target=' <=50K'),\n",
       " Row(Target=' <=50K'),\n",
       " Row(Target=' >50K'),\n",
       " Row(Target=' >50K'),\n",
       " Row(Target=' >50K'),\n",
       " Row(Target=' <=50K'),\n",
       " Row(Target=' <=50K'),\n",
       " Row(Target=' <=50K'),\n",
       " Row(Target=' <=50K'),\n",
       " Row(Target=' <=50K'),\n",
       " Row(Target=' <=50K'),\n",
       " Row(Target=' <=50K'),\n",
       " Row(Target=' >50K'),\n",
       " Row(Target=' <=50K'),\n",
       " Row(Target=' <=50K'),\n",
       " Row(Target=' <=50K'),\n",
       " Row(Target=' >50K'),\n",
       " Row(Target=' <=50K'),\n",
       " Row(Target=' >50K'),\n",
       " Row(Target=' >50K'),\n",
       " Row(Target=' >50K'),\n",
       " Row(Target=' >50K'),\n",
       " Row(Target=' <=50K'),\n",
       " Row(Target=' >50K'),\n",
       " Row(Target=' <=50K'),\n",
       " Row(Target=' <=50K'),\n",
       " Row(Target=' <=50K'),\n",
       " Row(Target=' <=50K'),\n",
       " Row(Target=' <=50K'),\n",
       " Row(Target=' >50K'),\n",
       " Row(Target=' <=50K'),\n",
       " Row(Target=' >50K'),\n",
       " Row(Target=' <=50K'),\n",
       " Row(Target=' <=50K'),\n",
       " Row(Target=' <=50K'),\n",
       " Row(Target=' >50K'),\n",
       " Row(Target=' <=50K'),\n",
       " Row(Target=' <=50K'),\n",
       " Row(Target=' >50K'),\n",
       " Row(Target=' <=50K'),\n",
       " Row(Target=' <=50K'),\n",
       " Row(Target=' >50K'),\n",
       " Row(Target=' <=50K'),\n",
       " Row(Target=' >50K'),\n",
       " Row(Target=' <=50K'),\n",
       " Row(Target=' >50K'),\n",
       " Row(Target=' >50K'),\n",
       " Row(Target=' <=50K'),\n",
       " Row(Target=' <=50K'),\n",
       " Row(Target=' >50K'),\n",
       " Row(Target=' <=50K'),\n",
       " Row(Target=' >50K'),\n",
       " Row(Target=' <=50K'),\n",
       " Row(Target=' <=50K'),\n",
       " Row(Target=' >50K'),\n",
       " Row(Target=' <=50K'),\n",
       " Row(Target=' >50K'),\n",
       " Row(Target=' <=50K'),\n",
       " Row(Target=' <=50K'),\n",
       " Row(Target=' <=50K'),\n",
       " Row(Target=' <=50K'),\n",
       " Row(Target=' <=50K'),\n",
       " Row(Target=' <=50K'),\n",
       " Row(Target=' <=50K'),\n",
       " Row(Target=' <=50K'),\n",
       " Row(Target=' <=50K'),\n",
       " Row(Target=' <=50K'),\n",
       " Row(Target=' >50K'),\n",
       " Row(Target=' <=50K'),\n",
       " Row(Target=' >50K'),\n",
       " Row(Target=' <=50K'),\n",
       " Row(Target=' <=50K'),\n",
       " Row(Target=' <=50K'),\n",
       " Row(Target=' <=50K'),\n",
       " Row(Target=' <=50K'),\n",
       " Row(Target=' >50K'),\n",
       " Row(Target=' <=50K'),\n",
       " Row(Target=' <=50K'),\n",
       " Row(Target=' <=50K'),\n",
       " Row(Target=' <=50K'),\n",
       " Row(Target=' <=50K'),\n",
       " Row(Target=' >50K'),\n",
       " Row(Target=' <=50K'),\n",
       " Row(Target=' <=50K'),\n",
       " Row(Target=' <=50K'),\n",
       " Row(Target=' <=50K'),\n",
       " Row(Target=' <=50K'),\n",
       " Row(Target=' <=50K'),\n",
       " Row(Target=' >50K'),\n",
       " Row(Target=' >50K'),\n",
       " Row(Target=' <=50K'),\n",
       " Row(Target=' <=50K'),\n",
       " Row(Target=' >50K'),\n",
       " Row(Target=' <=50K'),\n",
       " Row(Target=' <=50K'),\n",
       " Row(Target=' <=50K'),\n",
       " Row(Target=' <=50K'),\n",
       " Row(Target=' >50K'),\n",
       " Row(Target=' <=50K'),\n",
       " Row(Target=' <=50K'),\n",
       " Row(Target=' <=50K'),\n",
       " Row(Target=' >50K'),\n",
       " Row(Target=' <=50K'),\n",
       " Row(Target=' <=50K'),\n",
       " Row(Target=' >50K'),\n",
       " Row(Target=' <=50K'),\n",
       " Row(Target=' <=50K'),\n",
       " Row(Target=' >50K'),\n",
       " Row(Target=' <=50K'),\n",
       " Row(Target=' >50K'),\n",
       " Row(Target=' >50K'),\n",
       " Row(Target=' <=50K'),\n",
       " Row(Target=' <=50K'),\n",
       " Row(Target=' >50K'),\n",
       " Row(Target=' <=50K'),\n",
       " Row(Target=' <=50K'),\n",
       " Row(Target=' <=50K'),\n",
       " Row(Target=' <=50K'),\n",
       " Row(Target=' >50K'),\n",
       " Row(Target=' <=50K'),\n",
       " Row(Target=' <=50K'),\n",
       " Row(Target=' <=50K'),\n",
       " Row(Target=' <=50K'),\n",
       " Row(Target=' <=50K'),\n",
       " Row(Target=' <=50K'),\n",
       " Row(Target=' >50K'),\n",
       " Row(Target=' <=50K'),\n",
       " Row(Target=' <=50K'),\n",
       " Row(Target=' <=50K'),\n",
       " Row(Target=' <=50K'),\n",
       " Row(Target=' <=50K'),\n",
       " Row(Target=' >50K'),\n",
       " Row(Target=' <=50K'),\n",
       " Row(Target=' <=50K'),\n",
       " Row(Target=' <=50K'),\n",
       " Row(Target=' >50K'),\n",
       " Row(Target=' >50K'),\n",
       " Row(Target=' <=50K'),\n",
       " Row(Target=' <=50K'),\n",
       " Row(Target=' <=50K'),\n",
       " Row(Target=' <=50K'),\n",
       " Row(Target=' <=50K'),\n",
       " Row(Target=' >50K'),\n",
       " Row(Target=' <=50K'),\n",
       " Row(Target=' <=50K'),\n",
       " Row(Target=' <=50K'),\n",
       " Row(Target=' >50K'),\n",
       " Row(Target=' <=50K'),\n",
       " Row(Target=' >50K'),\n",
       " Row(Target=' <=50K'),\n",
       " Row(Target=' <=50K'),\n",
       " Row(Target=' <=50K'),\n",
       " Row(Target=' <=50K'),\n",
       " Row(Target=' <=50K'),\n",
       " Row(Target=' <=50K'),\n",
       " Row(Target=' >50K'),\n",
       " Row(Target=' >50K'),\n",
       " Row(Target=' <=50K'),\n",
       " Row(Target=' <=50K'),\n",
       " Row(Target=' <=50K'),\n",
       " Row(Target=' <=50K'),\n",
       " Row(Target=' >50K'),\n",
       " Row(Target=' <=50K'),\n",
       " Row(Target=' <=50K'),\n",
       " Row(Target=' <=50K'),\n",
       " Row(Target=' <=50K'),\n",
       " Row(Target=' <=50K'),\n",
       " Row(Target=' >50K'),\n",
       " Row(Target=' >50K'),\n",
       " Row(Target=' <=50K'),\n",
       " Row(Target=' >50K'),\n",
       " Row(Target=' <=50K'),\n",
       " Row(Target=' <=50K'),\n",
       " Row(Target=' <=50K'),\n",
       " Row(Target=' <=50K'),\n",
       " Row(Target=' <=50K'),\n",
       " Row(Target=' <=50K'),\n",
       " Row(Target=' <=50K'),\n",
       " Row(Target=' <=50K'),\n",
       " Row(Target=' >50K'),\n",
       " Row(Target=' <=50K'),\n",
       " Row(Target=' <=50K'),\n",
       " Row(Target=' <=50K'),\n",
       " Row(Target=' >50K'),\n",
       " Row(Target=' <=50K'),\n",
       " Row(Target=' <=50K'),\n",
       " Row(Target=' <=50K'),\n",
       " Row(Target=' <=50K'),\n",
       " Row(Target=' <=50K'),\n",
       " Row(Target=' <=50K'),\n",
       " Row(Target=' <=50K'),\n",
       " Row(Target=' <=50K'),\n",
       " Row(Target=' <=50K'),\n",
       " Row(Target=' <=50K'),\n",
       " Row(Target=' <=50K'),\n",
       " Row(Target=' >50K'),\n",
       " Row(Target=' <=50K'),\n",
       " Row(Target=' <=50K'),\n",
       " Row(Target=' <=50K'),\n",
       " Row(Target=' <=50K'),\n",
       " Row(Target=' <=50K'),\n",
       " Row(Target=' <=50K'),\n",
       " Row(Target=' <=50K'),\n",
       " Row(Target=' <=50K'),\n",
       " Row(Target=' >50K'),\n",
       " Row(Target=' <=50K'),\n",
       " Row(Target=' <=50K'),\n",
       " Row(Target=' >50K'),\n",
       " Row(Target=' <=50K'),\n",
       " Row(Target=' <=50K'),\n",
       " Row(Target=' <=50K'),\n",
       " Row(Target=' <=50K'),\n",
       " Row(Target=' >50K'),\n",
       " Row(Target=' <=50K'),\n",
       " Row(Target=' <=50K'),\n",
       " Row(Target=' <=50K'),\n",
       " Row(Target=' <=50K'),\n",
       " Row(Target=' >50K'),\n",
       " Row(Target=' <=50K'),\n",
       " Row(Target=' <=50K'),\n",
       " Row(Target=' <=50K'),\n",
       " Row(Target=' <=50K'),\n",
       " Row(Target=' <=50K'),\n",
       " Row(Target=' >50K'),\n",
       " Row(Target=' <=50K'),\n",
       " Row(Target=' >50K'),\n",
       " Row(Target=' <=50K'),\n",
       " Row(Target=' <=50K'),\n",
       " Row(Target=' >50K'),\n",
       " Row(Target=' >50K'),\n",
       " Row(Target=' <=50K'),\n",
       " Row(Target=' <=50K'),\n",
       " Row(Target=' <=50K'),\n",
       " Row(Target=' <=50K'),\n",
       " Row(Target=' <=50K'),\n",
       " Row(Target=' <=50K'),\n",
       " Row(Target=' <=50K'),\n",
       " Row(Target=' <=50K'),\n",
       " Row(Target=' <=50K'),\n",
       " Row(Target=' <=50K'),\n",
       " Row(Target=' >50K'),\n",
       " Row(Target=' <=50K'),\n",
       " Row(Target=' <=50K'),\n",
       " Row(Target=' <=50K'),\n",
       " Row(Target=' >50K'),\n",
       " Row(Target=' <=50K'),\n",
       " Row(Target=' >50K'),\n",
       " Row(Target=' <=50K'),\n",
       " Row(Target=' >50K'),\n",
       " Row(Target=' <=50K'),\n",
       " Row(Target=' >50K'),\n",
       " Row(Target=' <=50K'),\n",
       " Row(Target=' <=50K'),\n",
       " Row(Target=' <=50K'),\n",
       " Row(Target=' <=50K'),\n",
       " Row(Target=' <=50K'),\n",
       " Row(Target=' <=50K'),\n",
       " Row(Target=' <=50K'),\n",
       " Row(Target=' <=50K'),\n",
       " Row(Target=' <=50K'),\n",
       " Row(Target=' >50K'),\n",
       " Row(Target=' <=50K'),\n",
       " Row(Target=' <=50K'),\n",
       " Row(Target=' <=50K'),\n",
       " Row(Target=' >50K'),\n",
       " Row(Target=' <=50K'),\n",
       " Row(Target=' <=50K'),\n",
       " Row(Target=' <=50K'),\n",
       " Row(Target=' <=50K'),\n",
       " Row(Target=' >50K'),\n",
       " Row(Target=' <=50K'),\n",
       " Row(Target=' <=50K'),\n",
       " Row(Target=' <=50K'),\n",
       " Row(Target=' <=50K'),\n",
       " Row(Target=' <=50K'),\n",
       " Row(Target=' <=50K'),\n",
       " Row(Target=' >50K'),\n",
       " Row(Target=' <=50K'),\n",
       " Row(Target=' >50K'),\n",
       " Row(Target=' <=50K'),\n",
       " Row(Target=' <=50K'),\n",
       " Row(Target=' >50K'),\n",
       " Row(Target=' >50K'),\n",
       " Row(Target=' <=50K'),\n",
       " Row(Target=' <=50K'),\n",
       " Row(Target=' <=50K'),\n",
       " Row(Target=' <=50K'),\n",
       " Row(Target=' <=50K'),\n",
       " Row(Target=' <=50K'),\n",
       " Row(Target=' >50K'),\n",
       " Row(Target=' <=50K'),\n",
       " Row(Target=' <=50K'),\n",
       " Row(Target=' <=50K'),\n",
       " Row(Target=' <=50K'),\n",
       " Row(Target=' >50K'),\n",
       " Row(Target=' >50K'),\n",
       " Row(Target=' <=50K'),\n",
       " Row(Target=' >50K'),\n",
       " Row(Target=' <=50K'),\n",
       " Row(Target=' <=50K'),\n",
       " Row(Target=' <=50K'),\n",
       " Row(Target=' <=50K'),\n",
       " Row(Target=' <=50K'),\n",
       " Row(Target=' >50K'),\n",
       " Row(Target=' <=50K'),\n",
       " Row(Target=' <=50K'),\n",
       " Row(Target=' <=50K'),\n",
       " Row(Target=' <=50K'),\n",
       " Row(Target=' <=50K'),\n",
       " Row(Target=' <=50K'),\n",
       " Row(Target=' <=50K'),\n",
       " Row(Target=' <=50K'),\n",
       " Row(Target=' <=50K'),\n",
       " Row(Target=' <=50K'),\n",
       " ...]"
      ]
     },
     "execution_count": 21,
     "metadata": {},
     "output_type": "execute_result"
    }
   ],
   "source": [
    "df.select([\"Target\"]).collect()"
   ]
  },
  {
   "cell_type": "code",
   "execution_count": 22,
   "metadata": {
    "application/vnd.databricks.v1+cell": {
     "cellMetadata": {
      "byteLimit": 2048000,
      "rowLimit": 10000
     },
     "inputWidgets": {},
     "nuid": "89e919dc-f318-4b1b-a6ab-05fa565292c9",
     "showTitle": false,
     "title": ""
    }
   },
   "outputs": [],
   "source": [
    "from pyspark.sql.functions import when\n",
    "df=df.withColumn(\"Target\", when(df[\"Target\"]==' <=50K',0).otherwise(1))"
   ]
  },
  {
   "cell_type": "code",
   "execution_count": 23,
   "metadata": {
    "application/vnd.databricks.v1+cell": {
     "cellMetadata": {
      "byteLimit": 2048000,
      "rowLimit": 10000
     },
     "inputWidgets": {},
     "nuid": "5b76ab8c-f8b9-467a-a664-e049f46cada2",
     "showTitle": false,
     "title": ""
    }
   },
   "outputs": [
    {
     "name": "stdout",
     "output_type": "stream",
     "text": [
      "+---+-----------------+-------------+-------------------+------------------+---------------+-------------------+-------+------------+------------+--------------+--------------+------+\n",
      "|Age|        Workclass|    Education|     Marital_Status|        Occupation|   Relationship|               Race|    Sex|Capital_Gain|Capital_Loss|Hours_Per_Week|Native_Country|Target|\n",
      "+---+-----------------+-------------+-------------------+------------------+---------------+-------------------+-------+------------+------------+--------------+--------------+------+\n",
      "| 29| Self-emp-not-inc|    Bachelors| Married-civ-spouse|             Sales|        Husband|              White|   Male|           0|           0|            70| United-States|     1|\n",
      "| 36|          Private|    Bachelors| Married-civ-spouse|    Prof-specialty|        Husband|              White|   Male|           0|           0|            45| United-States|     0|\n",
      "| 22|          Private|      5th-6th| Married-civ-spouse| Machine-op-inspct| Other-relative|              White| Female|           0|           0|            40|        Mexico|     0|\n",
      "| 30|          Private|      HS-grad| Married-civ-spouse|   Exec-managerial|           Wife|              White| Female|           0|           0|            40| United-States|     0|\n",
      "| 34|          Private|    Assoc-voc|      Never-married|  Transport-moving|      Own-child|              White|   Male|           0|           0|            40| United-States|     0|\n",
      "| 31|          Private|         11th|          Separated|     Other-service|  Not-in-family|              Black| Female|           0|           0|            42| United-States|     0|\n",
      "| 61| Self-emp-not-inc|      HS-grad| Married-civ-spouse|   Farming-fishing|        Husband|              White|   Male|           0|        1848|            60| United-States|     1|\n",
      "| 27|      Federal-gov| Some-college| Married-civ-spouse|      Craft-repair|        Husband|              White|   Male|           0|           0|            50| United-States|     0|\n",
      "| 26|          Private|         11th|      Never-married|  Transport-moving|  Not-in-family|              White|   Male|           0|           0|            40| United-States|     0|\n",
      "| 46|          Private|      HS-grad| Married-civ-spouse|      Adm-clerical|           Wife|              White| Female|        7688|           0|            40| United-States|     1|\n",
      "| 36|        Local-gov| Some-college| Married-civ-spouse|   Protective-serv|        Husband|              White|   Male|           0|           0|            40| United-States|     1|\n",
      "| 26|          Private|    Bachelors|      Never-married|    Prof-specialty|  Not-in-family| Asian-Pac-Islander|   Male|           0|           0|            16|         Japan|     0|\n",
      "| 39|          Private|      HS-grad| Married-civ-spouse| Machine-op-inspct|        Husband|              White|   Male|           0|           0|            40| United-States|     0|\n",
      "| 29|          Private|         11th| Married-civ-spouse|  Transport-moving|        Husband|              White|   Male|           0|           0|            60| United-States|     0|\n",
      "| 55|     Self-emp-inc|  Prof-school| Married-civ-spouse|    Prof-specialty|        Husband|              White|   Male|           0|        2415|            35|        Greece|     1|\n",
      "| 46|          Private|    Assoc-voc| Married-civ-spouse|      Craft-repair|        Husband|              White|   Male|           0|           0|            40| United-States|     0|\n",
      "| 24|          Private|      HS-grad|           Divorced|   Exec-managerial|  Not-in-family|              White| Female|           0|           0|            45| United-States|     1|\n",
      "| 27|          Private| Some-college|      Never-married|    Prof-specialty|  Not-in-family|              White|   Male|           0|           0|            40| United-States|     0|\n",
      "| 38|          Private|      HS-grad| Married-civ-spouse| Handlers-cleaners|        Husband|              White|   Male|        2829|           0|            30|        Mexico|     0|\n",
      "| 44|          Private|    Bachelors| Married-civ-spouse|    Prof-specialty|        Husband|              White|   Male|           0|           0|            45| United-States|     0|\n",
      "+---+-----------------+-------------+-------------------+------------------+---------------+-------------------+-------+------------+------------+--------------+--------------+------+\n",
      "only showing top 20 rows\n",
      "\n"
     ]
    }
   ],
   "source": [
    "df.show()"
   ]
  },
  {
   "cell_type": "code",
   "execution_count": 24,
   "metadata": {
    "application/vnd.databricks.v1+cell": {
     "cellMetadata": {
      "byteLimit": 2048000,
      "rowLimit": 10000
     },
     "inputWidgets": {},
     "nuid": "1b68065b-d576-414a-8aeb-1f221b7c5474",
     "showTitle": false,
     "title": ""
    }
   },
   "outputs": [
    {
     "name": "stdout",
     "output_type": "stream",
     "text": [
      "root\n",
      " |-- Age: integer (nullable = true)\n",
      " |-- Workclass: string (nullable = true)\n",
      " |-- Education: string (nullable = true)\n",
      " |-- Marital_Status: string (nullable = true)\n",
      " |-- Occupation: string (nullable = true)\n",
      " |-- Relationship: string (nullable = true)\n",
      " |-- Race: string (nullable = true)\n",
      " |-- Sex: string (nullable = true)\n",
      " |-- Capital_Gain: integer (nullable = true)\n",
      " |-- Capital_Loss: integer (nullable = true)\n",
      " |-- Hours_Per_Week: integer (nullable = true)\n",
      " |-- Native_Country: string (nullable = true)\n",
      " |-- Target: integer (nullable = false)\n",
      "\n"
     ]
    }
   ],
   "source": [
    "df.printSchema()"
   ]
  },
  {
   "cell_type": "markdown",
   "metadata": {
    "application/vnd.databricks.v1+cell": {
     "cellMetadata": {
      "byteLimit": 2048000,
      "rowLimit": 10000
     },
     "inputWidgets": {},
     "nuid": "225da111-92cf-4e43-a649-3c93134b9779",
     "showTitle": false,
     "title": ""
    }
   },
   "source": [
    "# Linear Regression"
   ]
  },
  {
   "cell_type": "code",
   "execution_count": 25,
   "metadata": {
    "application/vnd.databricks.v1+cell": {
     "cellMetadata": {
      "byteLimit": 2048000,
      "rowLimit": 10000
     },
     "inputWidgets": {},
     "nuid": "66b65860-9301-4e28-bc42-7649f9f7a360",
     "showTitle": false,
     "title": ""
    }
   },
   "outputs": [],
   "source": [
    "train_data,test_data=df.randomSplit([0.7,0.3])"
   ]
  },
  {
   "cell_type": "code",
   "execution_count": 26,
   "metadata": {
    "application/vnd.databricks.v1+cell": {
     "cellMetadata": {
      "byteLimit": 2048000,
      "rowLimit": 10000
     },
     "inputWidgets": {},
     "nuid": "90b41029-5bf1-41ec-a629-113e529f8a35",
     "showTitle": false,
     "title": ""
    }
   },
   "outputs": [],
   "source": [
    "from pyspark.ml.feature import StringIndexer\n",
    "# Use StringIndexer to convert the categorical columns to hold numerical data\n",
    " \n",
    "Workclass_indexer = StringIndexer(inputCol='Workclass',outputCol='Workclass_index',handleInvalid='keep')\n",
    "Education_indexer = StringIndexer(inputCol='Education',outputCol='Education_index',handleInvalid='keep')\n",
    "Marital_Status_indexer = StringIndexer(inputCol='Marital_Status',outputCol='Marital_Status_index',handleInvalid='keep')\n",
    "Occupation_indexer = StringIndexer(inputCol='Occupation',outputCol='Occupation_index',handleInvalid='keep')\n",
    "Race_indexer = StringIndexer(inputCol='Race',outputCol='Race_index',handleInvalid='keep')\n",
    "Relationship_indexer = StringIndexer(inputCol='Relationship',outputCol='Relationship_index',handleInvalid='keep')\n",
    "Sex_indexer = StringIndexer(inputCol='Sex',outputCol='Sex_index',handleInvalid='keep')\n",
    "Native_Country_indexer = StringIndexer(inputCol='Native_Country',outputCol='Native_Country_index',handleInvalid='keep')"
   ]
  },
  {
   "cell_type": "code",
   "execution_count": 27,
   "metadata": {
    "application/vnd.databricks.v1+cell": {
     "cellMetadata": {
      "byteLimit": 2048000,
      "rowLimit": 10000
     },
     "inputWidgets": {},
     "nuid": "3f0ea32f-2939-4f42-81cd-07636c708742",
     "showTitle": false,
     "title": ""
    }
   },
   "outputs": [],
   "source": [
    "from pyspark.ml.feature import VectorAssembler\n",
    "# Vector assembler is used to create a vector of input features\n",
    " \n",
    "assembler = VectorAssembler(\n",
    "    inputCols=[\n",
    "        \"Age\",\n",
    "        \"Workclass_index\",\n",
    "        \"Education_index\",\n",
    "        \"Marital_Status_index\",\n",
    "        \"Occupation_index\",\n",
    "        \"Relationship_index\",\n",
    "        \"Race_index\",\n",
    "        \"Sex_index\",\n",
    "        \"Capital_Gain\",\n",
    "        \"Capital_Loss\",\n",
    "        \"Hours_Per_Week\",\n",
    "        \"Native_Country_index\"\n",
    "    ],\n",
    "    outputCol=\"features\"\n",
    ")"
   ]
  },
  {
   "cell_type": "code",
   "execution_count": 28,
   "metadata": {
    "application/vnd.databricks.v1+cell": {
     "cellMetadata": {
      "byteLimit": 2048000,
      "rowLimit": 10000
     },
     "inputWidgets": {},
     "nuid": "0e898357-f26b-4bf9-9053-f8c336d7dff8",
     "showTitle": false,
     "title": ""
    }
   },
   "outputs": [],
   "source": [
    "from pyspark.ml import Pipeline\n",
    "\n",
    "# Pipeline is used to pass the data through indexer and assembler simultaneously. Also, it helps to pre-rocess the test data\n",
    "# in the same way as that of the train data\n",
    "# https://spark.apache.org/docs/latest/ml-pipeline.html\n",
    " \n",
    "pipe = Pipeline(stages=[\n",
    "     Workclass_indexer,\n",
    "Education_indexer,\n",
    "Marital_Status_indexer,\n",
    "Occupation_indexer,\n",
    "Race_indexer,\n",
    "Relationship_indexer,\n",
    "Sex_indexer,\n",
    "Native_Country_indexer,\n",
    "    assembler\n",
    "    ]\n",
    ")"
   ]
  },
  {
   "cell_type": "code",
   "execution_count": 29,
   "metadata": {
    "application/vnd.databricks.v1+cell": {
     "cellMetadata": {
      "byteLimit": 2048000,
      "rowLimit": 10000
     },
     "inputWidgets": {},
     "nuid": "5be7043d-6d42-491b-95fe-81b5c13abb39",
     "showTitle": false,
     "title": ""
    }
   },
   "outputs": [],
   "source": [
    "fitted_pipe=pipe.fit(train_data)"
   ]
  },
  {
   "cell_type": "code",
   "execution_count": 30,
   "metadata": {
    "application/vnd.databricks.v1+cell": {
     "cellMetadata": {
      "byteLimit": 2048000,
      "rowLimit": 10000
     },
     "inputWidgets": {},
     "nuid": "e507d169-7e16-41b2-af2f-5900f24b27bc",
     "showTitle": false,
     "title": ""
    }
   },
   "outputs": [],
   "source": [
    "train_data=fitted_pipe.transform(train_data)\n",
    "# train_data.show()"
   ]
  },
  {
   "cell_type": "code",
   "execution_count": 31,
   "metadata": {
    "application/vnd.databricks.v1+cell": {
     "cellMetadata": {
      "byteLimit": 2048000,
      "rowLimit": 10000
     },
     "inputWidgets": {},
     "nuid": "1bf326e7-071d-4715-831a-95113ad34563",
     "showTitle": false,
     "title": ""
    }
   },
   "outputs": [
    {
     "name": "stdout",
     "output_type": "stream",
     "text": [
      "+---+----------+---------+-------------------+------------------+---------------+-------------------+-------+------------+------------+--------------+--------------+------+---------------+---------------+--------------------+----------------+----------+------------------+---------+--------------------+--------------------+\n",
      "|Age| Workclass|Education|     Marital_Status|        Occupation|   Relationship|               Race|    Sex|Capital_Gain|Capital_Loss|Hours_Per_Week|Native_Country|Target|Workclass_index|Education_index|Marital_Status_index|Occupation_index|Race_index|Relationship_index|Sex_index|Native_Country_index|            features|\n",
      "+---+----------+---------+-------------------+------------------+---------------+-------------------+-------+------------+------------+--------------+--------------+------+---------------+---------------+--------------------+----------------+----------+------------------+---------+--------------------+--------------------+\n",
      "| 17| Local-gov|     10th|      Never-married|   Protective-serv|      Own-child|              White| Female|           0|        1602|            40| United-States|     0|            2.0|            7.0|                 1.0|            11.0|       0.0|               2.0|      1.0|                 0.0|[17.0,2.0,7.0,1.0...|\n",
      "| 17|   Private|     10th| Married-civ-spouse|             Sales|      Own-child|              White| Female|           0|           0|            30| United-States|     0|            0.0|            7.0|                 0.0|             4.0|       0.0|               2.0|      1.0|                 0.0|(12,[0,2,4,5,7,10...|\n",
      "| 17|   Private|     10th|      Never-married|      Adm-clerical|      Own-child|              White| Female|           0|           0|             4| United-States|     0|            0.0|            7.0|                 1.0|             3.0|       0.0|               2.0|      1.0|                 0.0|[17.0,0.0,7.0,1.0...|\n",
      "| 17|   Private|     10th|      Never-married| Handlers-cleaners|      Own-child| Amer-Indian-Eskimo|   Male|           0|           0|            20| United-States|     0|            0.0|            7.0|                 1.0|             8.0|       3.0|               2.0|      0.0|                 0.0|[17.0,0.0,7.0,1.0...|\n",
      "| 17|   Private|     10th|      Never-married| Handlers-cleaners|      Own-child|              White|   Male|           0|           0|            10| United-States|     0|            0.0|            7.0|                 1.0|             8.0|       0.0|               2.0|      0.0|                 0.0|(12,[0,2,3,4,5,10...|\n",
      "| 17|   Private|     10th|      Never-married|     Other-service|      Own-child|              White| Female|           0|           0|            12| United-States|     0|            0.0|            7.0|                 1.0|             5.0|       0.0|               2.0|      1.0|                 0.0|[17.0,0.0,7.0,1.0...|\n",
      "| 17|   Private|     10th|      Never-married|     Other-service|      Own-child|              White| Female|           0|           0|            14| United-States|     0|            0.0|            7.0|                 1.0|             5.0|       0.0|               2.0|      1.0|                 0.0|[17.0,0.0,7.0,1.0...|\n",
      "| 17|   Private|     10th|      Never-married|     Other-service|      Own-child|              White| Female|           0|           0|            15| United-States|     0|            0.0|            7.0|                 1.0|             5.0|       0.0|               2.0|      1.0|                 0.0|[17.0,0.0,7.0,1.0...|\n",
      "| 17|   Private|     10th|      Never-married|     Other-service|      Own-child|              White| Female|           0|           0|            40| United-States|     0|            0.0|            7.0|                 1.0|             5.0|       0.0|               2.0|      1.0|                 0.0|[17.0,0.0,7.0,1.0...|\n",
      "| 17|   Private|     10th|      Never-married|     Other-service|      Own-child|              White|   Male|           0|           0|            14| United-States|     0|            0.0|            7.0|                 1.0|             5.0|       0.0|               2.0|      0.0|                 0.0|(12,[0,2,3,4,5,10...|\n",
      "| 17|   Private|     10th|      Never-married|     Other-service|      Own-child|              White|   Male|           0|           0|            15| United-States|     0|            0.0|            7.0|                 1.0|             5.0|       0.0|               2.0|      0.0|                 0.0|(12,[0,2,3,4,5,10...|\n",
      "| 17|   Private|     10th|      Never-married|     Other-service|      Own-child|              White|   Male|           0|           0|            16| United-States|     0|            0.0|            7.0|                 1.0|             5.0|       0.0|               2.0|      0.0|                 0.0|(12,[0,2,3,4,5,10...|\n",
      "| 17|   Private|     10th|      Never-married|   Priv-house-serv|      Own-child|              White|   Male|           0|           0|            30| United-States|     0|            0.0|            7.0|                 1.0|            12.0|       0.0|               2.0|      0.0|                 0.0|(12,[0,2,3,4,5,10...|\n",
      "| 17|   Private|     10th|      Never-married|             Sales|      Own-child|              White|   Male|           0|           0|            20| United-States|     0|            0.0|            7.0|                 1.0|             4.0|       0.0|               2.0|      0.0|                 0.0|(12,[0,2,3,4,5,10...|\n",
      "| 17|   Private|     11th|      Never-married|   Exec-managerial|      Own-child|              White| Female|           0|           0|            24| United-States|     0|            0.0|            5.0|                 1.0|             0.0|       0.0|               2.0|      1.0|                 0.0|(12,[0,2,3,5,7,10...|\n",
      "| 17|   Private|     11th|      Never-married| Handlers-cleaners|      Own-child|              White|   Male|           0|           0|            12| United-States|     0|            0.0|            5.0|                 1.0|             8.0|       0.0|               2.0|      0.0|                 0.0|(12,[0,2,3,4,5,10...|\n",
      "| 17|   Private|     11th|      Never-married|     Other-service| Other-relative|              White| Female|           0|           0|            12| United-States|     0|            0.0|            5.0|                 1.0|             5.0|       0.0|               5.0|      1.0|                 0.0|[17.0,0.0,5.0,1.0...|\n",
      "| 17|   Private|     11th|      Never-married|     Other-service|      Own-child|              Black| Female|           0|           0|            25| United-States|     0|            0.0|            5.0|                 1.0|             5.0|       1.0|               2.0|      1.0|                 0.0|[17.0,0.0,5.0,1.0...|\n",
      "| 17|   Private|     11th|      Never-married|     Other-service|      Own-child|              White| Female|           0|           0|            15| United-States|     0|            0.0|            5.0|                 1.0|             5.0|       0.0|               2.0|      1.0|                 0.0|[17.0,0.0,5.0,1.0...|\n",
      "| 17|   Private|     11th|      Never-married|     Other-service|      Own-child|              White| Female|           0|           0|            20| United-States|     0|            0.0|            5.0|                 1.0|             5.0|       0.0|               2.0|      1.0|                 0.0|[17.0,0.0,5.0,1.0...|\n",
      "+---+----------+---------+-------------------+------------------+---------------+-------------------+-------+------------+------------+--------------+--------------+------+---------------+---------------+--------------------+----------------+----------+------------------+---------+--------------------+--------------------+\n",
      "only showing top 20 rows\n",
      "\n"
     ]
    }
   ],
   "source": [
    "test_data=fitted_pipe.transform(test_data)\n",
    "test_data.show()"
   ]
  },
  {
   "cell_type": "code",
   "execution_count": 32,
   "metadata": {
    "application/vnd.databricks.v1+cell": {
     "cellMetadata": {
      "byteLimit": 2048000,
      "rowLimit": 10000
     },
     "inputWidgets": {},
     "nuid": "38949fb2-b9c9-4d8c-aab4-d7668a83a9d5",
     "showTitle": false,
     "title": ""
    }
   },
   "outputs": [],
   "source": [
    "from pyspark.ml.regression import LinearRegression\n",
    "\n",
    "lr_model = LinearRegression(labelCol='Target')\n",
    "fit_model = lr_model.fit(train_data.select(['features','Target']))"
   ]
  },
  {
   "cell_type": "code",
   "execution_count": 33,
   "metadata": {
    "application/vnd.databricks.v1+cell": {
     "cellMetadata": {
      "byteLimit": 2048000,
      "rowLimit": 10000
     },
     "inputWidgets": {},
     "nuid": "6e5abdde-e768-4b42-b5f1-4640537d7134",
     "showTitle": false,
     "title": ""
    }
   },
   "outputs": [
    {
     "name": "stdout",
     "output_type": "stream",
     "text": [
      "CPU times: total: 0 ns\n",
      "Wall time: 0 ns\n"
     ]
    }
   ],
   "source": [
    "%time\n",
    "results = fit_model.transform(test_data)\n"
   ]
  },
  {
   "cell_type": "code",
   "execution_count": 34,
   "metadata": {
    "application/vnd.databricks.v1+cell": {
     "cellMetadata": {
      "byteLimit": 2048000,
      "rowLimit": 10000
     },
     "inputWidgets": {},
     "nuid": "26f4d193-8e7a-42aa-9e3e-89f6e6bf7135",
     "showTitle": false,
     "title": ""
    }
   },
   "outputs": [
    {
     "name": "stdout",
     "output_type": "stream",
     "text": [
      "+---+----------+---------+-------------------+------------------+---------------+-------------------+-------+------------+------------+--------------+--------------+------+---------------+---------------+--------------------+----------------+----------+------------------+---------+--------------------+--------------------+--------------------+\n",
      "|Age| Workclass|Education|     Marital_Status|        Occupation|   Relationship|               Race|    Sex|Capital_Gain|Capital_Loss|Hours_Per_Week|Native_Country|Target|Workclass_index|Education_index|Marital_Status_index|Occupation_index|Race_index|Relationship_index|Sex_index|Native_Country_index|            features|          prediction|\n",
      "+---+----------+---------+-------------------+------------------+---------------+-------------------+-------+------------+------------+--------------+--------------+------+---------------+---------------+--------------------+----------------+----------+------------------+---------+--------------------+--------------------+--------------------+\n",
      "| 17| Local-gov|     10th|      Never-married|   Protective-serv|      Own-child|              White| Female|           0|        1602|            40| United-States|     0|            2.0|            7.0|                 1.0|            11.0|       0.0|               2.0|      1.0|                 0.0|[17.0,2.0,7.0,1.0...|  0.1176654894164818|\n",
      "| 17|   Private|     10th| Married-civ-spouse|             Sales|      Own-child|              White| Female|           0|           0|            30| United-States|     0|            0.0|            7.0|                 0.0|             4.0|       0.0|               2.0|      1.0|                 0.0|(12,[0,2,4,5,7,10...| 0.09811479002336726|\n",
      "| 17|   Private|     10th|      Never-married|      Adm-clerical|      Own-child|              White| Female|           0|           0|             4| United-States|     0|            0.0|            7.0|                 1.0|             3.0|       0.0|               2.0|      1.0|                 0.0|[17.0,0.0,7.0,1.0...|-0.08419776270823426|\n",
      "| 17|   Private|     10th|      Never-married| Handlers-cleaners|      Own-child| Amer-Indian-Eskimo|   Male|           0|           0|            20| United-States|     0|            0.0|            7.0|                 1.0|             8.0|       3.0|               2.0|      0.0|                 0.0|[17.0,0.0,7.0,1.0...|-0.13387575592209836|\n",
      "| 17|   Private|     10th|      Never-married| Handlers-cleaners|      Own-child|              White|   Male|           0|           0|            10| United-States|     0|            0.0|            7.0|                 1.0|             8.0|       0.0|               2.0|      0.0|                 0.0|(12,[0,2,3,4,5,10...| -0.1291313434690532|\n",
      "| 17|   Private|     10th|      Never-married|     Other-service|      Own-child|              White| Female|           0|           0|            12| United-States|     0|            0.0|            7.0|                 1.0|             5.0|       0.0|               2.0|      1.0|                 0.0|[17.0,0.0,7.0,1.0...|-0.09614230406536287|\n",
      "| 17|   Private|     10th|      Never-married|     Other-service|      Own-child|              White| Female|           0|           0|            14| United-States|     0|            0.0|            7.0|                 1.0|             5.0|       0.0|               2.0|      1.0|                 0.0|[17.0,0.0,7.0,1.0...|-0.08778139183652292|\n",
      "| 17|   Private|     10th|      Never-married|     Other-service|      Own-child|              White| Female|           0|           0|            15| United-States|     0|            0.0|            7.0|                 1.0|             5.0|       0.0|               2.0|      1.0|                 0.0|[17.0,0.0,7.0,1.0...|-0.08360093572210292|\n",
      "| 17|   Private|     10th|      Never-married|     Other-service|      Own-child|              White| Female|           0|           0|            40| United-States|     0|            0.0|            7.0|                 1.0|             5.0|       0.0|               2.0|      1.0|                 0.0|[17.0,0.0,7.0,1.0...| 0.02091046713839647|\n",
      "| 17|   Private|     10th|      Never-married|     Other-service|      Own-child|              White|   Male|           0|           0|            14| United-States|     0|            0.0|            7.0|                 1.0|             5.0|       0.0|               2.0|      0.0|                 0.0|(12,[0,2,3,4,5,10...|-0.04432723360264067|\n",
      "| 17|   Private|     10th|      Never-married|     Other-service|      Own-child|              White|   Male|           0|           0|            15| United-States|     0|            0.0|            7.0|                 1.0|             5.0|       0.0|               2.0|      0.0|                 0.0|(12,[0,2,3,4,5,10...|-0.04014677748822069|\n",
      "| 17|   Private|     10th|      Never-married|     Other-service|      Own-child|              White|   Male|           0|           0|            16| United-States|     0|            0.0|            7.0|                 1.0|             5.0|       0.0|               2.0|      0.0|                 0.0|(12,[0,2,3,4,5,10...|-0.03596632137380...|\n",
      "| 17|   Private|     10th|      Never-married|   Priv-house-serv|      Own-child|              White|   Male|           0|           0|            30| United-States|     0|            0.0|            7.0|                 1.0|            12.0|       0.0|               2.0|      0.0|                 0.0|(12,[0,2,3,4,5,10...|-0.13629860172563044|\n",
      "| 17|   Private|     10th|      Never-married|             Sales|      Own-child|              White|   Male|           0|           0|            20| United-States|     0|            0.0|            7.0|                 1.0|             4.0|       0.0|               2.0|      0.0|                 0.0|(12,[0,2,3,4,5,10...|0.003449598220123397|\n",
      "| 17|   Private|     11th|      Never-married|   Exec-managerial|      Own-child|              White| Female|           0|           0|            24| United-States|     0|            0.0|            5.0|                 1.0|             0.0|       0.0|               2.0|      1.0|                 0.0|(12,[0,2,3,5,7,10...| 0.06328530807302835|\n",
      "| 17|   Private|     11th|      Never-married| Handlers-cleaners|      Own-child|              White|   Male|           0|           0|            12| United-States|     0|            0.0|            5.0|                 1.0|             8.0|       0.0|               2.0|      0.0|                 0.0|(12,[0,2,3,4,5,10...|-0.12497876815608278|\n",
      "| 17|   Private|     11th|      Never-married|     Other-service| Other-relative|              White| Female|           0|           0|            12| United-States|     0|            0.0|            5.0|                 1.0|             5.0|       0.0|               5.0|      1.0|                 0.0|[17.0,0.0,5.0,1.0...|-0.13091772170374927|\n",
      "| 17|   Private|     11th|      Never-married|     Other-service|      Own-child|              Black| Female|           0|           0|            25| United-States|     0|            0.0|            5.0|                 1.0|             5.0|       1.0|               2.0|      1.0|                 0.0|[17.0,0.0,5.0,1.0...|-0.06152103602618...|\n",
      "| 17|   Private|     11th|      Never-married|     Other-service|      Own-child|              White| Female|           0|           0|            15| United-States|     0|            0.0|            5.0|                 1.0|             5.0|       0.0|               2.0|      1.0|                 0.0|[17.0,0.0,5.0,1.0...|-0.08780927263797247|\n",
      "| 17|   Private|     11th|      Never-married|     Other-service|      Own-child|              White| Female|           0|           0|            20| United-States|     0|            0.0|            5.0|                 1.0|             5.0|       0.0|               2.0|      1.0|                 0.0|[17.0,0.0,5.0,1.0...|-0.06690699206587261|\n",
      "+---+----------+---------+-------------------+------------------+---------------+-------------------+-------+------------+------------+--------------+--------------+------+---------------+---------------+--------------------+----------------+----------+------------------+---------+--------------------+--------------------+--------------------+\n",
      "only showing top 20 rows\n",
      "\n"
     ]
    }
   ],
   "source": [
    "results.show()"
   ]
  },
  {
   "cell_type": "code",
   "execution_count": 35,
   "metadata": {
    "application/vnd.databricks.v1+cell": {
     "cellMetadata": {
      "byteLimit": 2048000,
      "rowLimit": 10000
     },
     "inputWidgets": {},
     "nuid": "cdf72563-2412-4129-8400-d38991c3aef1",
     "showTitle": false,
     "title": ""
    }
   },
   "outputs": [
    {
     "name": "stdout",
     "output_type": "stream",
     "text": [
      "+------+--------------------+\n",
      "|Target|          prediction|\n",
      "+------+--------------------+\n",
      "|     0|  0.1176654894164818|\n",
      "|     0| 0.09811479002336726|\n",
      "|     0|-0.08419776270823426|\n",
      "|     0|-0.13387575592209836|\n",
      "|     0| -0.1291313434690532|\n",
      "|     0|-0.09614230406536287|\n",
      "|     0|-0.08778139183652292|\n",
      "|     0|-0.08360093572210292|\n",
      "|     0| 0.02091046713839647|\n",
      "|     0|-0.04432723360264067|\n",
      "|     0|-0.04014677748822069|\n",
      "|     0|-0.03596632137380...|\n",
      "|     0|-0.13629860172563044|\n",
      "|     0|0.003449598220123397|\n",
      "|     0| 0.06328530807302835|\n",
      "|     0|-0.12497876815608278|\n",
      "|     0|-0.13091772170374927|\n",
      "|     0|-0.06152103602618...|\n",
      "|     0|-0.08780927263797247|\n",
      "|     0|-0.06690699206587261|\n",
      "+------+--------------------+\n",
      "only showing top 20 rows\n",
      "\n"
     ]
    }
   ],
   "source": [
    "results.select(['Target','prediction']).show()"
   ]
  },
  {
   "cell_type": "markdown",
   "metadata": {
    "application/vnd.databricks.v1+cell": {
     "cellMetadata": {
      "byteLimit": 2048000,
      "rowLimit": 10000
     },
     "inputWidgets": {},
     "nuid": "e26e8922-88d5-4c04-af9e-89b5b38c0663",
     "showTitle": false,
     "title": ""
    }
   },
   "source": [
    "## Evaluate the peformance of the Linear Regression Model"
   ]
  },
  {
   "cell_type": "code",
   "execution_count": 36,
   "metadata": {
    "application/vnd.databricks.v1+cell": {
     "cellMetadata": {
      "byteLimit": 2048000,
      "rowLimit": 10000
     },
     "inputWidgets": {},
     "nuid": "ecaf0ee4-988b-4bc1-928a-2a610deccab9",
     "showTitle": false,
     "title": ""
    }
   },
   "outputs": [],
   "source": [
    "test_results = fit_model.evaluate(test_data)"
   ]
  },
  {
   "cell_type": "code",
   "execution_count": 37,
   "metadata": {
    "application/vnd.databricks.v1+cell": {
     "cellMetadata": {
      "byteLimit": 2048000,
      "rowLimit": 10000
     },
     "inputWidgets": {},
     "nuid": "97982b41-c86e-45de-98ae-1e99d8fa44d0",
     "showTitle": false,
     "title": ""
    }
   },
   "outputs": [
    {
     "name": "stderr",
     "output_type": "stream",
     "text": [
      "C:\\Users\\Uday Ganti\\anaconda3\\envs\\spark\\lib\\site-packages\\pyspark\\sql\\context.py:125: FutureWarning: Deprecated in 3.0.0. Use SparkSession.builder.getOrCreate() instead.\n",
      "  warnings.warn(\n"
     ]
    },
    {
     "name": "stdout",
     "output_type": "stream",
     "text": [
      "+--------------------+\n",
      "|           residuals|\n",
      "+--------------------+\n",
      "| -0.1176654894164818|\n",
      "|-0.09811479002336726|\n",
      "| 0.08419776270823426|\n",
      "| 0.13387575592209836|\n",
      "|  0.1291313434690532|\n",
      "| 0.09614230406536287|\n",
      "| 0.08778139183652292|\n",
      "| 0.08360093572210292|\n",
      "|-0.02091046713839647|\n",
      "| 0.04432723360264067|\n",
      "| 0.04014677748822069|\n",
      "|0.035966321373800715|\n",
      "| 0.13629860172563044|\n",
      "|-0.00344959822012...|\n",
      "|-0.06328530807302835|\n",
      "| 0.12497876815608278|\n",
      "| 0.13091772170374927|\n",
      "|0.061521036026187685|\n",
      "| 0.08780927263797247|\n",
      "| 0.06690699206587261|\n",
      "+--------------------+\n",
      "only showing top 20 rows\n",
      "\n"
     ]
    }
   ],
   "source": [
    "test_results.residuals.show()"
   ]
  },
  {
   "cell_type": "code",
   "execution_count": 38,
   "metadata": {
    "application/vnd.databricks.v1+cell": {
     "cellMetadata": {
      "byteLimit": 2048000,
      "rowLimit": 10000
     },
     "inputWidgets": {},
     "nuid": "f6ec15d7-e815-4f65-af74-6e015f979d16",
     "showTitle": false,
     "title": ""
    }
   },
   "outputs": [
    {
     "name": "stdout",
     "output_type": "stream",
     "text": [
      "RMSE:     0.374\n",
      "Ex Var:   0.051\n",
      "MAE:      0.300\n",
      "MSE:      0.140\n",
      "R2:       0.255\n"
     ]
    }
   ],
   "source": [
    "print(f\"{'RMSE:':7s} {test_results.rootMeanSquaredError:>7.3f}\")\n",
    "print(f\"{'Ex Var:':7s} {test_results.explainedVariance:>7.3f}\")\n",
    "print(f\"{'MAE:':7s} {test_results.meanAbsoluteError:>7.3f}\")\n",
    "print(f\"{'MSE:':7s} {test_results.meanSquaredError:>7.3f}\")\n",
    "print(f\"{'R2:':7s} {test_results.r2:>7.3f}\")"
   ]
  },
  {
   "cell_type": "markdown",
   "metadata": {
    "application/vnd.databricks.v1+cell": {
     "cellMetadata": {
      "byteLimit": 2048000,
      "rowLimit": 10000
     },
     "inputWidgets": {},
     "nuid": "fc695dfb-c998-4e73-97a8-e716c6b3e670",
     "showTitle": false,
     "title": ""
    }
   },
   "source": [
    "## Building Logistic Model"
   ]
  },
  {
   "cell_type": "code",
   "execution_count": 39,
   "metadata": {
    "application/vnd.databricks.v1+cell": {
     "cellMetadata": {
      "byteLimit": 2048000,
      "rowLimit": 10000
     },
     "inputWidgets": {},
     "nuid": "0d05ae97-443c-42de-927b-7595d043a7b0",
     "showTitle": false,
     "title": ""
    }
   },
   "outputs": [],
   "source": [
    "train_data,test_data=df.randomSplit([0.7,0.3])"
   ]
  },
  {
   "cell_type": "code",
   "execution_count": 40,
   "metadata": {
    "application/vnd.databricks.v1+cell": {
     "cellMetadata": {
      "byteLimit": 2048000,
      "rowLimit": 10000
     },
     "inputWidgets": {},
     "nuid": "1414cbe2-a55c-4e2e-afe9-6d0e60f03fba",
     "showTitle": false,
     "title": ""
    }
   },
   "outputs": [],
   "source": [
    "# Import the required libraries\n",
    " \n",
    "from pyspark.ml.classification import LogisticRegression\n",
    "from pyspark.ml.feature import VectorAssembler,StringIndexer ,OneHotEncoder\n",
    "from pyspark.ml import Pipeline"
   ]
  },
  {
   "cell_type": "code",
   "execution_count": 41,
   "metadata": {
    "application/vnd.databricks.v1+cell": {
     "cellMetadata": {
      "byteLimit": 2048000,
      "rowLimit": 10000
     },
     "inputWidgets": {},
     "nuid": "1a510e4f-f34d-4338-adc9-dcfc8f1c8f5a",
     "showTitle": false,
     "title": ""
    }
   },
   "outputs": [],
   "source": [
    "data_encoder = OneHotEncoder(\n",
    "    inputCols=[\n",
    "        \"Workclass_index\",\n",
    "        \"Education_index\",\n",
    "        \"Marital_Status_index\",\n",
    "        \"Occupation_index\",\n",
    "        \"Relationship_index\",\n",
    "        \"Race_index\",\n",
    "        \"Sex_index\",\n",
    "        \"Native_Country_index\"\n",
    "    ], \n",
    "    outputCols= [\n",
    "          \"Workclass_vec\",\n",
    "        \"Education_vec\",\n",
    "        \"Marital_Status_vec\",\n",
    "        \"Occupation_vec\",\n",
    "        \"Relationship_vec\",\n",
    "        \"Race_vec\",\n",
    "        \"Sex_vec\",\n",
    "        \"Native_Country_vec\"],\n",
    "    handleInvalid='keep'\n",
    ")"
   ]
  },
  {
   "cell_type": "code",
   "execution_count": 42,
   "metadata": {
    "application/vnd.databricks.v1+cell": {
     "cellMetadata": {
      "byteLimit": 2048000,
      "rowLimit": 10000
     },
     "inputWidgets": {},
     "nuid": "e137c9d6-d7f7-4e21-a007-4ee3a0141feb",
     "showTitle": false,
     "title": ""
    }
   },
   "outputs": [],
   "source": [
    "assembler = VectorAssembler(\n",
    "    inputCols=[\n",
    "       \"Age\",\n",
    "        \"Workclass_vec\",\n",
    "        \"Education_vec\",\n",
    "        \"Marital_Status_vec\",\n",
    "        \"Occupation_vec\",\n",
    "        \"Relationship_vec\",\n",
    "        \"Race_vec\",\n",
    "        \"Sex_vec\",\n",
    "        \"Capital_Gain\",\n",
    "        \"Capital_Loss\",\n",
    "        \"Hours_Per_Week\",\n",
    "        \"Native_Country_vec\"\n",
    "        ],\n",
    "    outputCol=\"features\"\n",
    ")"
   ]
  },
  {
   "cell_type": "markdown",
   "metadata": {
    "application/vnd.databricks.v1+cell": {
     "cellMetadata": {
      "byteLimit": 2048000,
      "rowLimit": 10000
     },
     "inputWidgets": {},
     "nuid": "36629446-b0d8-4c27-8d1d-b1efb1a7d1e5",
     "showTitle": false,
     "title": ""
    }
   },
   "source": [
    "Create an object for the Logistic Regression model"
   ]
  },
  {
   "cell_type": "code",
   "execution_count": 43,
   "metadata": {
    "application/vnd.databricks.v1+cell": {
     "cellMetadata": {
      "byteLimit": 2048000,
      "rowLimit": 10000
     },
     "inputWidgets": {},
     "nuid": "03d40175-06fd-443a-b267-0c93d9185b88",
     "showTitle": false,
     "title": ""
    }
   },
   "outputs": [],
   "source": [
    "lr_model = LogisticRegression(labelCol='Target')"
   ]
  },
  {
   "cell_type": "code",
   "execution_count": 44,
   "metadata": {
    "application/vnd.databricks.v1+cell": {
     "cellMetadata": {
      "byteLimit": 2048000,
      "rowLimit": 10000
     },
     "inputWidgets": {},
     "nuid": "91ef445e-9aee-4871-8c4f-4373d483f790",
     "showTitle": false,
     "title": ""
    }
   },
   "outputs": [],
   "source": [
    "pipe = Pipeline(\n",
    "    stages=[\n",
    "        Workclass_indexer,\n",
    "Education_indexer,\n",
    "Marital_Status_indexer,\n",
    "Occupation_indexer,\n",
    "Race_indexer,\n",
    "Relationship_indexer,\n",
    "Sex_indexer,\n",
    "Native_Country_indexer,\n",
    "        data_encoder,\n",
    "    assembler,\n",
    "        lr_model\n",
    "    ]\n",
    ")"
   ]
  },
  {
   "cell_type": "code",
   "execution_count": 45,
   "metadata": {
    "application/vnd.databricks.v1+cell": {
     "cellMetadata": {
      "byteLimit": 2048000,
      "rowLimit": 10000
     },
     "inputWidgets": {},
     "nuid": "4be928ab-6e6d-413f-ae94-45c127affd5a",
     "showTitle": false,
     "title": ""
    }
   },
   "outputs": [
    {
     "name": "stdout",
     "output_type": "stream",
     "text": [
      "CPU times: total: 0 ns\n",
      "Wall time: 0 ns\n"
     ]
    }
   ],
   "source": [
    "%time\n",
    "# run the pipeline\n",
    "fit_model=pipe.fit(train_data)\n",
    "\n"
   ]
  },
  {
   "cell_type": "code",
   "execution_count": 46,
   "metadata": {
    "application/vnd.databricks.v1+cell": {
     "cellMetadata": {
      "byteLimit": 2048000,
      "rowLimit": 10000
     },
     "inputWidgets": {},
     "nuid": "6fb45463-46b0-4cd6-9cbb-40a7e36eccaf",
     "showTitle": false,
     "title": ""
    }
   },
   "outputs": [],
   "source": [
    "# Store the results in a dataframe\n",
    "results = fit_model.transform(test_data)"
   ]
  },
  {
   "cell_type": "code",
   "execution_count": 47,
   "metadata": {
    "application/vnd.databricks.v1+cell": {
     "cellMetadata": {
      "byteLimit": 2048000,
      "rowLimit": 10000
     },
     "inputWidgets": {},
     "nuid": "8017e597-4ec4-4002-8622-fc9a7dfad259",
     "showTitle": false,
     "title": ""
    }
   },
   "outputs": [
    {
     "name": "stdout",
     "output_type": "stream",
     "text": [
      "+------+----------+\n",
      "|Target|prediction|\n",
      "+------+----------+\n",
      "|     0|       0.0|\n",
      "|     0|       0.0|\n",
      "|     0|       0.0|\n",
      "|     0|       0.0|\n",
      "|     0|       0.0|\n",
      "|     0|       0.0|\n",
      "|     0|       0.0|\n",
      "|     0|       0.0|\n",
      "|     0|       0.0|\n",
      "|     0|       0.0|\n",
      "|     0|       0.0|\n",
      "|     0|       0.0|\n",
      "|     0|       0.0|\n",
      "|     0|       0.0|\n",
      "|     0|       0.0|\n",
      "|     0|       0.0|\n",
      "|     0|       0.0|\n",
      "|     0|       0.0|\n",
      "|     0|       0.0|\n",
      "|     0|       0.0|\n",
      "+------+----------+\n",
      "only showing top 20 rows\n",
      "\n"
     ]
    }
   ],
   "source": [
    "results.select(['Target','prediction']).show()"
   ]
  },
  {
   "cell_type": "markdown",
   "metadata": {
    "application/vnd.databricks.v1+cell": {
     "cellMetadata": {
      "byteLimit": 2048000,
      "rowLimit": 10000
     },
     "inputWidgets": {},
     "nuid": "955d8e56-a9d3-4afe-aa94-1142fbb50213",
     "showTitle": false,
     "title": ""
    }
   },
   "source": [
    "## Model Evaluation"
   ]
  },
  {
   "cell_type": "code",
   "execution_count": 48,
   "metadata": {
    "application/vnd.databricks.v1+cell": {
     "cellMetadata": {
      "byteLimit": 2048000,
      "rowLimit": 10000
     },
     "inputWidgets": {},
     "nuid": "042b0b0a-2c2e-4cc9-8644-309b8eca43a1",
     "showTitle": false,
     "title": ""
    }
   },
   "outputs": [],
   "source": [
    "from pyspark.ml.evaluation import BinaryClassificationEvaluator\n",
    "from pyspark.ml.evaluation import MulticlassClassificationEvaluator\n",
    "# from sklearn.metrics import confusion_matrix\n",
    "def evaluate(results,Target,model_name):\n",
    "    \n",
    "\n",
    "    AUC_evaluator = BinaryClassificationEvaluator(rawPredictionCol='prediction',labelCol='Target',metricName='areaUnderROC')\n",
    "    AUC = AUC_evaluator.evaluate(results)\n",
    "\n",
    "    print(f\"The area under the curve is {AUC:.2f} for model {model_name}\")\n",
    "\n",
    "    PR_evaluator = BinaryClassificationEvaluator(rawPredictionCol='prediction',labelCol='Target',metricName='areaUnderPR')\n",
    "    PR = PR_evaluator.evaluate(results)\n",
    "\n",
    "    print(\"The area under the PR curve is {} for model {}\".format(PR,model_name))\n",
    "\n",
    "\n",
    "\n",
    "    ACC_evaluator = MulticlassClassificationEvaluator(\n",
    "    labelCol=\"Target\", predictionCol=\"prediction\", metricName=\"accuracy\")\n",
    "\n",
    "    accuracy = ACC_evaluator.evaluate(results)\n",
    "\n",
    "    print(\"The accuracy of the model is {} for model {}\".format(accuracy,model_name))\n",
    "\n",
    "\n",
    "\n",
    "    y_true = results.select(\"Target\")\n",
    "    y_true = y_true.toPandas()\n",
    " \n",
    "    y_pred = results.select(\"prediction\")\n",
    "    y_pred = y_pred.toPandas()\n",
    " \n",
    "#     cnf_matrix = confusion_matrix(y_true, y_pred)\n",
    "#     print(\"Below is the confusion matrix: \\n {}\".format(cnf_matrix))\n",
    "\n",
    "#     tn = cnf_matrix[0][0]\n",
    "#     fp = cnf_matrix[0][1]\n",
    "#     fn = cnf_matrix[1][0]\n",
    "#     tp = cnf_matrix[1][1]\n",
    "\n",
    "#     accuracy = (tp+tn)/(tp+tn+fp+fn)\n",
    "#     precision = tp/(tp+fp)\n",
    "#     recall = tp/(tp+fn)\n",
    "#     f1_score = 2*(precision*recall)/(precision+recall)\n",
    "\n",
    "#     print(f\"Accuracy: {accuracy:.2f} for model {model_name}\")\n",
    "#     print(f\"Precision: {precision:.2f} for model {model_name}\")\n",
    "#     print(f\"Recall: {recall:.2f} for model {model_name}\")\n",
    "#     print(f\"F1 Score: {f1_score:.2f} for model {model_name}\")"
   ]
  },
  {
   "cell_type": "code",
   "execution_count": 49,
   "metadata": {
    "application/vnd.databricks.v1+cell": {
     "cellMetadata": {
      "byteLimit": 2048000,
      "rowLimit": 10000
     },
     "inputWidgets": {},
     "nuid": "b06c253c-e6f9-463f-999b-5e462164d65c",
     "showTitle": false,
     "title": ""
    }
   },
   "outputs": [
    {
     "name": "stdout",
     "output_type": "stream",
     "text": [
      "The area under the curve is 0.77 for model Logistic Model\n",
      "The area under the PR curve is 0.6379504223888752 for model Logistic Model\n",
      "The accuracy of the model is 0.8509413067552603 for model Logistic Model\n"
     ]
    }
   ],
   "source": [
    "evaluate(results,\"Target\",\"Logistic Model\")"
   ]
  },
  {
   "cell_type": "markdown",
   "metadata": {
    "application/vnd.databricks.v1+cell": {
     "cellMetadata": {
      "byteLimit": 2048000,
      "rowLimit": 10000
     },
     "inputWidgets": {},
     "nuid": "61b69080-e95c-4c3c-9f74-ca35c46c096f",
     "showTitle": false,
     "title": ""
    }
   },
   "source": [
    "### Building the Linear SVC model"
   ]
  },
  {
   "cell_type": "code",
   "execution_count": 50,
   "metadata": {
    "application/vnd.databricks.v1+cell": {
     "cellMetadata": {
      "byteLimit": 2048000,
      "rowLimit": 10000
     },
     "inputWidgets": {},
     "nuid": "bd629799-c9bf-48c6-8c81-73aefbdf7bbb",
     "showTitle": false,
     "title": ""
    }
   },
   "outputs": [],
   "source": [
    "from pyspark.ml.classification import LinearSVC\n",
    "from pyspark.ml.feature import StandardScaler"
   ]
  },
  {
   "cell_type": "code",
   "execution_count": 51,
   "metadata": {
    "application/vnd.databricks.v1+cell": {
     "cellMetadata": {
      "byteLimit": 2048000,
      "rowLimit": 10000
     },
     "inputWidgets": {},
     "nuid": "bdb7222e-f884-4367-819f-169f0f262399",
     "showTitle": false,
     "title": ""
    }
   },
   "outputs": [],
   "source": [
    "assembler = VectorAssembler(\n",
    "    inputCols=[\n",
    "        \"Age\",\n",
    "        \"Workclass_index\",\n",
    "        \"Education_index\",\n",
    "        \"Marital_Status_index\",\n",
    "        \"Occupation_index\",\n",
    "        \"Relationship_index\",\n",
    "        \"Race_index\",\n",
    "        \"Sex_index\",\n",
    "        \"Capital_Gain\",\n",
    "        \"Capital_Loss\",\n",
    "        \"Hours_Per_Week\",\n",
    "        \"Native_Country_index\"\n",
    "    ],\n",
    "    outputCol=\"unscaled_features\"\n",
    ")"
   ]
  },
  {
   "cell_type": "markdown",
   "metadata": {
    "application/vnd.databricks.v1+cell": {
     "cellMetadata": {
      "byteLimit": 2048000,
      "rowLimit": 10000
     },
     "inputWidgets": {},
     "nuid": "683cbb5e-f658-4ab1-a054-ad33e8c4d271",
     "showTitle": false,
     "title": ""
    }
   },
   "source": [
    "Standard scaler is used to scale the data for the linear SVC to perform well on the training data"
   ]
  },
  {
   "cell_type": "code",
   "execution_count": 52,
   "metadata": {
    "application/vnd.databricks.v1+cell": {
     "cellMetadata": {
      "byteLimit": 2048000,
      "rowLimit": 10000
     },
     "inputWidgets": {},
     "nuid": "b022efbf-e98f-4d10-aef7-7b369d9aa3dd",
     "showTitle": false,
     "title": ""
    }
   },
   "outputs": [],
   "source": [
    "scaler = StandardScaler(inputCol=\"unscaled_features\",outputCol=\"features\")"
   ]
  },
  {
   "cell_type": "markdown",
   "metadata": {
    "application/vnd.databricks.v1+cell": {
     "cellMetadata": {
      "byteLimit": 2048000,
      "rowLimit": 10000
     },
     "inputWidgets": {},
     "nuid": "9c70b0cc-a00d-40c6-bf30-eedc6eb63af5",
     "showTitle": false,
     "title": ""
    }
   },
   "source": [
    "Create an object for the Linear SVC model"
   ]
  },
  {
   "cell_type": "code",
   "execution_count": 53,
   "metadata": {
    "application/vnd.databricks.v1+cell": {
     "cellMetadata": {
      "byteLimit": 2048000,
      "rowLimit": 10000
     },
     "inputWidgets": {},
     "nuid": "881d04b8-cfff-44b3-8caa-5e836c31cc9d",
     "showTitle": false,
     "title": ""
    }
   },
   "outputs": [],
   "source": [
    "svc_model = LinearSVC(labelCol='Target')"
   ]
  },
  {
   "cell_type": "markdown",
   "metadata": {
    "application/vnd.databricks.v1+cell": {
     "cellMetadata": {
      "byteLimit": 2048000,
      "rowLimit": 10000
     },
     "inputWidgets": {},
     "nuid": "912a1e7c-b56c-431a-8fb3-f80bd3e2491a",
     "showTitle": false,
     "title": ""
    }
   },
   "source": [
    "Pipeline is used to pass the data through indexer and assembler simultaneously. Also, it helps to pre-rocess the test data in the same way as that of the train data."
   ]
  },
  {
   "cell_type": "code",
   "execution_count": 54,
   "metadata": {
    "application/vnd.databricks.v1+cell": {
     "cellMetadata": {
      "byteLimit": 2048000,
      "rowLimit": 10000
     },
     "inputWidgets": {},
     "nuid": "f4c277e5-7942-4aec-9014-7e4ef33723a0",
     "showTitle": false,
     "title": ""
    }
   },
   "outputs": [],
   "source": [
    "pipe = Pipeline(\n",
    "    stages=[\n",
    "        Workclass_indexer,\n",
    "Education_indexer,\n",
    "Marital_Status_indexer,\n",
    "Occupation_indexer,\n",
    "Race_indexer,\n",
    "Relationship_indexer,\n",
    "Sex_indexer,\n",
    "Native_Country_indexer,\n",
    "    assembler,\n",
    "        scaler,svc_model\n",
    "    ]\n",
    ")"
   ]
  },
  {
   "cell_type": "markdown",
   "metadata": {
    "application/vnd.databricks.v1+cell": {
     "cellMetadata": {
      "byteLimit": 2048000,
      "rowLimit": 10000
     },
     "inputWidgets": {},
     "nuid": "a094ab2f-8f28-454a-811b-0e9978d30da8",
     "showTitle": false,
     "title": ""
    }
   },
   "source": [
    "Fit the model on the training data"
   ]
  },
  {
   "cell_type": "code",
   "execution_count": 55,
   "metadata": {
    "application/vnd.databricks.v1+cell": {
     "cellMetadata": {
      "byteLimit": 2048000,
      "rowLimit": 10000
     },
     "inputWidgets": {},
     "nuid": "7cf4d1da-5c29-42fe-86a3-73e788a4d20a",
     "showTitle": false,
     "title": ""
    }
   },
   "outputs": [
    {
     "name": "stdout",
     "output_type": "stream",
     "text": [
      "root\n",
      " |-- Age: integer (nullable = true)\n",
      " |-- Workclass: string (nullable = true)\n",
      " |-- Education: string (nullable = true)\n",
      " |-- Marital_Status: string (nullable = true)\n",
      " |-- Occupation: string (nullable = true)\n",
      " |-- Relationship: string (nullable = true)\n",
      " |-- Race: string (nullable = true)\n",
      " |-- Sex: string (nullable = true)\n",
      " |-- Capital_Gain: integer (nullable = true)\n",
      " |-- Capital_Loss: integer (nullable = true)\n",
      " |-- Hours_Per_Week: integer (nullable = true)\n",
      " |-- Native_Country: string (nullable = true)\n",
      " |-- Target: integer (nullable = false)\n",
      "\n"
     ]
    }
   ],
   "source": [
    "train_data.printSchema()"
   ]
  },
  {
   "cell_type": "code",
   "execution_count": 56,
   "metadata": {
    "application/vnd.databricks.v1+cell": {
     "cellMetadata": {
      "byteLimit": 2048000,
      "rowLimit": 10000
     },
     "inputWidgets": {},
     "nuid": "20a29175-f614-4998-b2ce-067338ba4369",
     "showTitle": false,
     "title": ""
    }
   },
   "outputs": [
    {
     "name": "stdout",
     "output_type": "stream",
     "text": [
      "root\n",
      " |-- Age: integer (nullable = true)\n",
      " |-- Workclass: string (nullable = true)\n",
      " |-- Education: string (nullable = true)\n",
      " |-- Marital_Status: string (nullable = true)\n",
      " |-- Occupation: string (nullable = true)\n",
      " |-- Relationship: string (nullable = true)\n",
      " |-- Race: string (nullable = true)\n",
      " |-- Sex: string (nullable = true)\n",
      " |-- Capital_Gain: integer (nullable = true)\n",
      " |-- Capital_Loss: integer (nullable = true)\n",
      " |-- Hours_Per_Week: integer (nullable = true)\n",
      " |-- Native_Country: string (nullable = true)\n",
      " |-- Target: integer (nullable = false)\n",
      "\n"
     ]
    }
   ],
   "source": [
    "test_data.printSchema()"
   ]
  },
  {
   "cell_type": "code",
   "execution_count": 57,
   "metadata": {
    "application/vnd.databricks.v1+cell": {
     "cellMetadata": {
      "byteLimit": 2048000,
      "rowLimit": 10000
     },
     "inputWidgets": {},
     "nuid": "1031a19f-a1aa-4abe-9b1d-710c1f6fd482",
     "showTitle": false,
     "title": ""
    }
   },
   "outputs": [
    {
     "name": "stdout",
     "output_type": "stream",
     "text": [
      "CPU times: total: 0 ns\n",
      "Wall time: 0 ns\n"
     ]
    }
   ],
   "source": [
    "%time\n",
    "\n",
    "fit_model=pipe.fit(train_data)"
   ]
  },
  {
   "cell_type": "markdown",
   "metadata": {
    "application/vnd.databricks.v1+cell": {
     "cellMetadata": {
      "byteLimit": 2048000,
      "rowLimit": 10000
     },
     "inputWidgets": {},
     "nuid": "23b532c6-516b-4bb6-8dd7-30040a0266b6",
     "showTitle": false,
     "title": ""
    }
   },
   "source": [
    "Store the results in a dataframe"
   ]
  },
  {
   "cell_type": "code",
   "execution_count": 58,
   "metadata": {
    "application/vnd.databricks.v1+cell": {
     "cellMetadata": {
      "byteLimit": 2048000,
      "rowLimit": 10000
     },
     "inputWidgets": {},
     "nuid": "7d53fdca-6d55-4add-8369-0b1d16ce7491",
     "showTitle": false,
     "title": ""
    }
   },
   "outputs": [
    {
     "data": {
      "text/plain": [
       "DataFrame[Age: int, Workclass: string, Education: string, Marital_Status: string, Occupation: string, Relationship: string, Race: string, Sex: string, Capital_Gain: int, Capital_Loss: int, Hours_Per_Week: int, Native_Country: string, Target: int, Workclass_index: double, Education_index: double, Marital_Status_index: double, Occupation_index: double, Race_index: double, Relationship_index: double, Sex_index: double, Native_Country_index: double, unscaled_features: vector, features: vector, rawPrediction: vector, prediction: double]"
      ]
     },
     "metadata": {},
     "output_type": "display_data"
    }
   ],
   "source": [
    "results = fit_model.transform(test_data)\n",
    "display(results)"
   ]
  },
  {
   "cell_type": "code",
   "execution_count": 59,
   "metadata": {
    "application/vnd.databricks.v1+cell": {
     "cellMetadata": {
      "byteLimit": 2048000,
      "rowLimit": 10000
     },
     "inputWidgets": {},
     "nuid": "1df40396-8fad-4af2-a65a-a5655a407542",
     "showTitle": false,
     "title": ""
    }
   },
   "outputs": [
    {
     "name": "stdout",
     "output_type": "stream",
     "text": [
      "+------+----------+\n",
      "|Target|prediction|\n",
      "+------+----------+\n",
      "|     0|       0.0|\n",
      "|     0|       0.0|\n",
      "|     0|       0.0|\n",
      "|     0|       0.0|\n",
      "|     0|       0.0|\n",
      "|     0|       0.0|\n",
      "|     0|       0.0|\n",
      "|     0|       0.0|\n",
      "|     0|       0.0|\n",
      "|     0|       0.0|\n",
      "|     0|       0.0|\n",
      "|     0|       0.0|\n",
      "|     0|       0.0|\n",
      "|     0|       0.0|\n",
      "|     0|       0.0|\n",
      "|     0|       0.0|\n",
      "|     0|       0.0|\n",
      "|     0|       0.0|\n",
      "|     0|       0.0|\n",
      "|     0|       0.0|\n",
      "+------+----------+\n",
      "only showing top 20 rows\n",
      "\n"
     ]
    }
   ],
   "source": [
    "results.select(['Target','prediction']).show()"
   ]
  },
  {
   "cell_type": "code",
   "execution_count": 60,
   "metadata": {
    "application/vnd.databricks.v1+cell": {
     "cellMetadata": {
      "byteLimit": 2048000,
      "rowLimit": 10000
     },
     "inputWidgets": {},
     "nuid": "35d22283-cd31-4426-9abd-32bd84b4293a",
     "showTitle": false,
     "title": ""
    }
   },
   "outputs": [
    {
     "name": "stdout",
     "output_type": "stream",
     "text": [
      "The area under the curve is 0.64 for model Linear SVC\n",
      "The area under the PR curve is 0.5765284595589857 for model Linear SVC\n",
      "The accuracy of the model is 0.8060538944259874 for model Linear SVC\n"
     ]
    }
   ],
   "source": [
    "evaluate(results,\"Target\",\"Linear SVC\")"
   ]
  },
  {
   "cell_type": "markdown",
   "metadata": {
    "application/vnd.databricks.v1+cell": {
     "cellMetadata": {
      "byteLimit": 2048000,
      "rowLimit": 10000
     },
     "inputWidgets": {},
     "nuid": "559555fa-f47a-4b4b-b85b-32e2c52d5238",
     "showTitle": false,
     "title": ""
    }
   },
   "source": [
    "# Linear MLP model"
   ]
  },
  {
   "cell_type": "code",
   "execution_count": 61,
   "metadata": {
    "application/vnd.databricks.v1+cell": {
     "cellMetadata": {
      "byteLimit": 2048000,
      "rowLimit": 10000
     },
     "inputWidgets": {},
     "nuid": "79aa2f5f-adc2-4ec3-b6c5-e60ebe166049",
     "showTitle": false,
     "title": ""
    }
   },
   "outputs": [],
   "source": [
    "from pyspark.ml.classification import MultilayerPerceptronClassifier\n",
    "\n",
    "mlp_model = MultilayerPerceptronClassifier().\\\n",
    "        setLabelCol(\"Target\").\\\n",
    "        setFeaturesCol(\"features\").\\\n",
    "        setSeed(20).\\\n",
    "        setLayers([12, 16, 16, 8]) # the 6 is the number of input columns - we need the first layer to be the same as the number of input columns\n",
    "\n",
    "\n"
   ]
  },
  {
   "cell_type": "code",
   "execution_count": 62,
   "metadata": {
    "application/vnd.databricks.v1+cell": {
     "cellMetadata": {
      "byteLimit": 2048000,
      "rowLimit": 10000
     },
     "inputWidgets": {},
     "nuid": "df5cdb32-8dff-4675-abea-da575d63a8a3",
     "showTitle": false,
     "title": ""
    }
   },
   "outputs": [],
   "source": [
    "pipe = Pipeline(\n",
    "    stages=[\n",
    "        Workclass_indexer,\n",
    "Education_indexer,\n",
    "Marital_Status_indexer,\n",
    "Occupation_indexer,\n",
    "Race_indexer,\n",
    "Relationship_indexer,\n",
    "Sex_indexer,\n",
    "Native_Country_indexer,\n",
    "    assembler,\n",
    "        scaler,mlp_model\n",
    "    ]\n",
    ")"
   ]
  },
  {
   "cell_type": "code",
   "execution_count": 63,
   "metadata": {
    "application/vnd.databricks.v1+cell": {
     "cellMetadata": {
      "byteLimit": 2048000,
      "rowLimit": 10000
     },
     "inputWidgets": {},
     "nuid": "0532cd73-7f9e-41ed-ad1c-1775ba6ad55e",
     "showTitle": false,
     "title": ""
    }
   },
   "outputs": [
    {
     "name": "stdout",
     "output_type": "stream",
     "text": [
      "CPU times: total: 0 ns\n",
      "Wall time: 0 ns\n"
     ]
    }
   ],
   "source": [
    "%time\n",
    "\n",
    "fit_model=pipe.fit(train_data)"
   ]
  },
  {
   "cell_type": "code",
   "execution_count": 64,
   "metadata": {
    "application/vnd.databricks.v1+cell": {
     "cellMetadata": {
      "byteLimit": 2048000,
      "rowLimit": 10000
     },
     "inputWidgets": {},
     "nuid": "e1278e16-bb73-419e-bff5-ecaa305a400a",
     "showTitle": false,
     "title": ""
    }
   },
   "outputs": [
    {
     "name": "stdout",
     "output_type": "stream",
     "text": [
      "+---+----------+---------+-------------------+----------------+------------+------+-------+------------+------------+--------------+--------------+------+\n",
      "|Age| Workclass|Education|     Marital_Status|      Occupation|Relationship|  Race|    Sex|Capital_Gain|Capital_Loss|Hours_Per_Week|Native_Country|Target|\n",
      "+---+----------+---------+-------------------+----------------+------------+------+-------+------------+------------+--------------+--------------+------+\n",
      "| 17| Local-gov|     10th|      Never-married| Protective-serv|   Own-child| White| Female|           0|        1602|            40| United-States|     0|\n",
      "| 17| Local-gov|      9th|      Never-married|   Other-service|   Own-child| White|   Male|           0|           0|            45| United-States|     0|\n",
      "| 17|   Private|     10th| Married-civ-spouse|           Sales|   Own-child| White| Female|           0|           0|            30| United-States|     0|\n",
      "+---+----------+---------+-------------------+----------------+------------+------+-------+------------+------------+--------------+--------------+------+\n",
      "only showing top 3 rows\n",
      "\n"
     ]
    }
   ],
   "source": [
    "test_data.show(3)"
   ]
  },
  {
   "cell_type": "code",
   "execution_count": 65,
   "metadata": {
    "application/vnd.databricks.v1+cell": {
     "cellMetadata": {
      "byteLimit": 2048000,
      "rowLimit": 10000
     },
     "inputWidgets": {},
     "nuid": "0cee6e59-95b0-40ab-9134-2b9ba068725b",
     "showTitle": false,
     "title": ""
    }
   },
   "outputs": [
    {
     "name": "stdout",
     "output_type": "stream",
     "text": [
      "+---+----------+---------+--------------+--------------+------------+------+-------+------------+------------+--------------+--------------+------+\n",
      "|Age| Workclass|Education|Marital_Status|    Occupation|Relationship|  Race|    Sex|Capital_Gain|Capital_Loss|Hours_Per_Week|Native_Country|Target|\n",
      "+---+----------+---------+--------------+--------------+------------+------+-------+------------+------------+--------------+--------------+------+\n",
      "| 17| Local-gov|     10th| Never-married| Other-service|   Own-child| White| Female|           0|           0|            25| United-States|     0|\n",
      "| 17| Local-gov|     11th| Never-married|  Adm-clerical|   Own-child| White| Female|           0|           0|            15| United-States|     0|\n",
      "| 17| Local-gov|     11th| Never-married| Other-service|   Own-child| White| Female|           0|           0|            16| United-States|     0|\n",
      "+---+----------+---------+--------------+--------------+------------+------+-------+------------+------------+--------------+--------------+------+\n",
      "only showing top 3 rows\n",
      "\n"
     ]
    }
   ],
   "source": [
    "train_data.show(3)"
   ]
  },
  {
   "cell_type": "code",
   "execution_count": 66,
   "metadata": {
    "application/vnd.databricks.v1+cell": {
     "cellMetadata": {
      "byteLimit": 2048000,
      "rowLimit": 10000
     },
     "inputWidgets": {},
     "nuid": "900cc523-bbb1-4e9f-af7d-9317f1fc3de6",
     "showTitle": false,
     "title": ""
    }
   },
   "outputs": [
    {
     "data": {
      "text/plain": [
       "DataFrame[Age: int, Workclass: string, Education: string, Marital_Status: string, Occupation: string, Relationship: string, Race: string, Sex: string, Capital_Gain: int, Capital_Loss: int, Hours_Per_Week: int, Native_Country: string, Target: int, Workclass_index: double, Education_index: double, Marital_Status_index: double, Occupation_index: double, Race_index: double, Relationship_index: double, Sex_index: double, Native_Country_index: double, unscaled_features: vector, features: vector, rawPrediction: vector, probability: vector, prediction: double]"
      ]
     },
     "metadata": {},
     "output_type": "display_data"
    }
   ],
   "source": [
    "results = fit_model.transform(test_data)\n",
    "display(results)\n"
   ]
  },
  {
   "cell_type": "code",
   "execution_count": 67,
   "metadata": {
    "application/vnd.databricks.v1+cell": {
     "cellMetadata": {
      "byteLimit": 2048000,
      "rowLimit": 10000
     },
     "inputWidgets": {},
     "nuid": "07808546-d689-43db-86c4-c82008ae8aa6",
     "showTitle": false,
     "title": ""
    }
   },
   "outputs": [
    {
     "name": "stdout",
     "output_type": "stream",
     "text": [
      "+------+----------+\n",
      "|Target|prediction|\n",
      "+------+----------+\n",
      "|     0|       0.0|\n",
      "|     0|       0.0|\n",
      "|     0|       0.0|\n",
      "|     0|       0.0|\n",
      "|     0|       0.0|\n",
      "|     0|       0.0|\n",
      "|     0|       0.0|\n",
      "|     0|       0.0|\n",
      "|     0|       0.0|\n",
      "|     0|       0.0|\n",
      "|     0|       0.0|\n",
      "|     0|       0.0|\n",
      "|     0|       0.0|\n",
      "|     0|       0.0|\n",
      "|     0|       0.0|\n",
      "|     0|       0.0|\n",
      "|     0|       0.0|\n",
      "|     0|       0.0|\n",
      "|     0|       0.0|\n",
      "|     0|       0.0|\n",
      "+------+----------+\n",
      "only showing top 20 rows\n",
      "\n"
     ]
    }
   ],
   "source": [
    "results.select(['Target','prediction']).show()"
   ]
  },
  {
   "cell_type": "code",
   "execution_count": 68,
   "metadata": {
    "application/vnd.databricks.v1+cell": {
     "cellMetadata": {
      "byteLimit": 2048000,
      "rowLimit": 10000
     },
     "inputWidgets": {},
     "nuid": "09268291-5b06-40e2-88c6-310883a68c01",
     "showTitle": false,
     "title": ""
    }
   },
   "outputs": [
    {
     "name": "stdout",
     "output_type": "stream",
     "text": [
      "The area under the curve is 0.76 for model Linear MLP\n",
      "The area under the PR curve is 0.6249578337485754 for model Linear MLP\n",
      "The accuracy of the model is 0.8451827242524917 for model Linear MLP\n"
     ]
    }
   ],
   "source": [
    "evaluate(results,\"Target\",\"Linear MLP\")"
   ]
  },
  {
   "cell_type": "markdown",
   "metadata": {
    "application/vnd.databricks.v1+cell": {
     "cellMetadata": {
      "byteLimit": 2048000,
      "rowLimit": 10000
     },
     "inputWidgets": {},
     "nuid": "176434f3-0103-4241-a7d8-bb8433023fed",
     "showTitle": false,
     "title": ""
    }
   },
   "source": [
    "# Decision Tree"
   ]
  },
  {
   "cell_type": "code",
   "execution_count": 69,
   "metadata": {
    "application/vnd.databricks.v1+cell": {
     "cellMetadata": {
      "byteLimit": 2048000,
      "rowLimit": 10000
     },
     "inputWidgets": {},
     "nuid": "489da253-6ea3-4f18-a09b-82930c747df0",
     "showTitle": false,
     "title": ""
    }
   },
   "outputs": [],
   "source": [
    "from pyspark.ml.classification import DecisionTreeClassifier\n"
   ]
  },
  {
   "cell_type": "code",
   "execution_count": 70,
   "metadata": {
    "application/vnd.databricks.v1+cell": {
     "cellMetadata": {
      "byteLimit": 2048000,
      "rowLimit": 10000
     },
     "inputWidgets": {},
     "nuid": "cdc0b2af-3a7c-4ac1-9148-2a778cf1a365",
     "showTitle": false,
     "title": ""
    }
   },
   "outputs": [],
   "source": [
    "assembler = VectorAssembler(\n",
    "    inputCols=[\n",
    "        \"Age\",\n",
    "        \"Workclass_index\",\n",
    "        \"Education_index\",\n",
    "        \"Marital_Status_index\",\n",
    "        \"Occupation_index\",\n",
    "        \"Relationship_index\",\n",
    "        \"Race_index\",\n",
    "        \"Sex_index\",\n",
    "        \"Capital_Gain\",\n",
    "        \"Capital_Loss\",\n",
    "        \"Hours_Per_Week\",\n",
    "        \"Native_Country_index\"\n",
    "    ],\n",
    "    outputCol=\"features\"\n",
    ")"
   ]
  },
  {
   "cell_type": "code",
   "execution_count": 71,
   "metadata": {
    "application/vnd.databricks.v1+cell": {
     "cellMetadata": {
      "byteLimit": 2048000,
      "rowLimit": 10000
     },
     "inputWidgets": {},
     "nuid": "6710f543-4c6b-4040-b4de-d9c3c65e9b80",
     "showTitle": false,
     "title": ""
    }
   },
   "outputs": [],
   "source": [
    "dt_model = DecisionTreeClassifier(labelCol='Target',maxBins=5000)"
   ]
  },
  {
   "cell_type": "code",
   "execution_count": 72,
   "metadata": {
    "application/vnd.databricks.v1+cell": {
     "cellMetadata": {
      "byteLimit": 2048000,
      "rowLimit": 10000
     },
     "inputWidgets": {},
     "nuid": "2accab28-5d87-4323-8f39-0c63be22362f",
     "showTitle": false,
     "title": ""
    }
   },
   "outputs": [],
   "source": [
    "pipe = Pipeline(\n",
    "    stages=[\n",
    "        Workclass_indexer,\n",
    "Education_indexer,\n",
    "Marital_Status_indexer,\n",
    "Occupation_indexer,\n",
    "Race_indexer,\n",
    "Relationship_indexer,\n",
    "Sex_indexer,\n",
    "Native_Country_indexer,\n",
    "    assembler,\n",
    "        dt_model\n",
    "    ]\n",
    ")"
   ]
  },
  {
   "cell_type": "code",
   "execution_count": 73,
   "metadata": {
    "application/vnd.databricks.v1+cell": {
     "cellMetadata": {
      "byteLimit": 2048000,
      "rowLimit": 10000
     },
     "inputWidgets": {},
     "nuid": "c1c462b9-5faf-44dc-b3f3-5306b6049f19",
     "showTitle": false,
     "title": ""
    }
   },
   "outputs": [],
   "source": [
    "fit_model=pipe.fit(train_data)"
   ]
  },
  {
   "cell_type": "code",
   "execution_count": 74,
   "metadata": {
    "application/vnd.databricks.v1+cell": {
     "cellMetadata": {
      "byteLimit": 2048000,
      "rowLimit": 10000
     },
     "inputWidgets": {},
     "nuid": "bc6402ef-d2cd-4a35-b3ee-3a891aa67883",
     "showTitle": false,
     "title": ""
    }
   },
   "outputs": [],
   "source": [
    "results = fit_model.transform(test_data)"
   ]
  },
  {
   "cell_type": "code",
   "execution_count": 75,
   "metadata": {
    "application/vnd.databricks.v1+cell": {
     "cellMetadata": {
      "byteLimit": 2048000,
      "rowLimit": 10000
     },
     "inputWidgets": {},
     "nuid": "ab20df5d-3b8a-4c7d-a483-e06c320592d3",
     "showTitle": false,
     "title": ""
    }
   },
   "outputs": [
    {
     "name": "stdout",
     "output_type": "stream",
     "text": [
      "+------+----------+\n",
      "|Target|prediction|\n",
      "+------+----------+\n",
      "|     0|       0.0|\n",
      "|     0|       0.0|\n",
      "|     0|       0.0|\n",
      "|     0|       0.0|\n",
      "|     0|       0.0|\n",
      "|     0|       0.0|\n",
      "|     0|       0.0|\n",
      "|     0|       0.0|\n",
      "|     0|       0.0|\n",
      "|     0|       0.0|\n",
      "|     0|       0.0|\n",
      "|     0|       0.0|\n",
      "|     0|       0.0|\n",
      "|     0|       0.0|\n",
      "|     0|       0.0|\n",
      "|     0|       0.0|\n",
      "|     0|       0.0|\n",
      "|     0|       0.0|\n",
      "|     0|       0.0|\n",
      "|     0|       0.0|\n",
      "+------+----------+\n",
      "only showing top 20 rows\n",
      "\n"
     ]
    }
   ],
   "source": [
    "results.select(['Target','prediction']).show()"
   ]
  },
  {
   "cell_type": "code",
   "execution_count": 76,
   "metadata": {
    "application/vnd.databricks.v1+cell": {
     "cellMetadata": {
      "byteLimit": 2048000,
      "rowLimit": 10000
     },
     "inputWidgets": {},
     "nuid": "96b7d497-5f00-43e6-ad48-3e79a19dea89",
     "showTitle": false,
     "title": ""
    }
   },
   "outputs": [
    {
     "name": "stdout",
     "output_type": "stream",
     "text": [
      "The area under the curve is 0.75 for model Decision Tree\n",
      "The area under the PR curve is 0.6458022025145571 for model Decision Tree\n",
      "The accuracy of the model is 0.8485049833887043 for model Decision Tree\n"
     ]
    }
   ],
   "source": [
    "evaluate(results,\"Target\",\"Decision Tree\")"
   ]
  }
 ],
 "metadata": {
  "application/vnd.databricks.v1+notebook": {
   "dashboards": [],
   "language": "python",
   "notebookMetadata": {
    "pythonIndentUnit": 4
   },
   "notebookName": "Final_Project",
   "notebookOrigID": 3893238937367935,
   "widgets": {}
  },
  "kernelspec": {
   "display_name": "Python 3 (ipykernel)",
   "language": "python",
   "name": "python3"
  },
  "language_info": {
   "codemirror_mode": {
    "name": "ipython",
    "version": 3
   },
   "file_extension": ".py",
   "mimetype": "text/x-python",
   "name": "python",
   "nbconvert_exporter": "python",
   "pygments_lexer": "ipython3",
   "version": "3.10.10"
  }
 },
 "nbformat": 4,
 "nbformat_minor": 1
}
